{
 "cells": [
  {
   "cell_type": "markdown",
   "metadata": {},
   "source": [
    "# Hiyerarşik Kümeleme Analizi(Hierarchical CLuster Analysis) "
   ]
  },
  {
   "cell_type": "markdown",
   "metadata": {},
   "source": [
    "* **Amaç gözlemleri birbirlerine olan benzerliklerine göre alt kümelere ayırmaktır.**\n",
    "* **K-means'da belirli sayıda küme oluşturulurken, Hiyerarşik Kümelemede hem belirli sayıda küme oluşturulabilir hemde oluşan yeni kümelerin altında yeni kümeler ayırabiliriz.**\n",
    "* **Kümeleme yöntemleri :**\n",
    "1. **Agglomerative(Birleştirici) = Her gözlem bir küme olarak ele alınır ve birbirlerine olan benzerliklerine göre tek bir küme kalacak şekilde kümelenir.**\n",
    "2. **Divisive(Bölümleyici) = Tek bir kümeden başlanır daha sonra küme sayısı gözlem sayısına eşit oluncaya dek gözlemler birbirlerine olan benzerliklerine göre kümelenir.**\n",
    "* **Gözlemlerde birbirlerine yakın olan noktalar uzaklık ölçüleri ile belirlenir : Oklid uzaklığı, manhattan uzaklığı, korelasyon vs**"
   ]
  },
  {
   "cell_type": "code",
   "execution_count": null,
   "metadata": {},
   "outputs": [],
   "source": []
  }
 ],
 "metadata": {
  "kernelspec": {
   "display_name": "Python 3",
   "language": "python",
   "name": "python3"
  },
  "language_info": {
   "codemirror_mode": {
    "name": "ipython",
    "version": 3
   },
   "file_extension": ".py",
   "mimetype": "text/x-python",
   "name": "python",
   "nbconvert_exporter": "python",
   "pygments_lexer": "ipython3",
   "version": "3.7.6"
  }
 },
 "nbformat": 4,
 "nbformat_minor": 4
}
