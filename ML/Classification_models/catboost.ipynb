{
 "cells": [
  {
   "cell_type": "markdown",
   "metadata": {},
   "source": [
    "# CatBoost"
   ]
  },
  {
   "cell_type": "markdown",
   "metadata": {},
   "source": [
    "* **kategorik değişken desteği sağlar ve otomatik olarak mücadele eder.**\n",
    "* **Hızlı tahmin**\n",
    "* **Başarılı tahmin**\n",
    "* **GBM türü**"
   ]
  },
  {
   "cell_type": "code",
   "execution_count": 4,
   "metadata": {},
   "outputs": [],
   "source": [
    "import pandas as pd\n",
    "import numpy as np\n",
    "from sklearn.linear_model import LogisticRegression  #lojistic algoritması\n",
    "from sklearn.metrics import mean_squared_error, r2_score, accuracy_score, confusion_matrix, roc_auc_score, roc_curve\n",
    "import matplotlib.pyplot as plt\n",
    "from sklearn.model_selection import train_test_split, cross_val_score\n",
    "from sklearn.neighbors import KNeighborsClassifier  #KNneighbors algoritması\n",
    "from sklearn.neighbors import KNeighborsRegressor\n",
    "from sklearn.model_selection import GridSearchCV\n",
    "from sklearn.svm import SVC #destek vektor\n",
    "from sklearn.neural_network import MLPClassifier\n",
    "from sklearn.tree import DecisionTreeClassifier\n",
    "from sklearn.ensemble import RandomForestClassifier\n",
    "import seaborn as sns   #grafik çizmek için\n",
    "import matplotlib.pyplot as plt #grafik çizmek için\n",
    "from sklearn.ensemble import GradientBoostingClassifier\n",
    "from xgboost import XGBClassifier\n",
    "from lightgbm import LGBMClassifier\n",
    "\n",
    "from catboost import CatBoostClassifier"
   ]
  },
  {
   "cell_type": "code",
   "execution_count": 2,
   "metadata": {
    "collapsed": true,
    "jupyter": {
     "outputs_hidden": true
    }
   },
   "outputs": [
    {
     "name": "stdout",
     "output_type": "stream",
     "text": [
      "Requirement already satisfied: catboost in c:\\users\\mutlu\\anaconda3\\lib\\site-packages (0.23)\n",
      "Requirement already satisfied: plotly in c:\\users\\mutlu\\anaconda3\\lib\\site-packages (from catboost) (4.6.0)\n",
      "Requirement already satisfied: scipy in c:\\users\\mutlu\\anaconda3\\lib\\site-packages (from catboost) (1.4.1)\n",
      "Requirement already satisfied: pandas>=0.24.0 in c:\\users\\mutlu\\anaconda3\\lib\\site-packages (from catboost) (1.0.1)\n",
      "Requirement already satisfied: graphviz in c:\\users\\mutlu\\anaconda3\\lib\\site-packages (from catboost) (0.14)\n",
      "Requirement already satisfied: numpy>=1.16.0 in c:\\users\\mutlu\\anaconda3\\lib\\site-packages (from catboost) (1.18.1)\n",
      "Requirement already satisfied: six in c:\\users\\mutlu\\appdata\\roaming\\python\\python37\\site-packages (from catboost) (1.14.0)\n",
      "Requirement already satisfied: matplotlib in c:\\users\\mutlu\\anaconda3\\lib\\site-packages (from catboost) (3.1.3)\n",
      "Requirement already satisfied: retrying>=1.3.3 in c:\\users\\mutlu\\anaconda3\\lib\\site-packages (from plotly->catboost) (1.3.3)\n",
      "Requirement already satisfied: python-dateutil>=2.6.1 in c:\\users\\mutlu\\anaconda3\\lib\\site-packages (from pandas>=0.24.0->catboost) (2.8.1)\n",
      "Requirement already satisfied: pytz>=2017.2 in c:\\users\\mutlu\\anaconda3\\lib\\site-packages (from pandas>=0.24.0->catboost) (2019.3)\n",
      "Requirement already satisfied: pyparsing!=2.0.4,!=2.1.2,!=2.1.6,>=2.0.1 in c:\\users\\mutlu\\anaconda3\\lib\\site-packages (from matplotlib->catboost) (2.4.6)\n",
      "Requirement already satisfied: cycler>=0.10 in c:\\users\\mutlu\\anaconda3\\lib\\site-packages (from matplotlib->catboost) (0.10.0)\n",
      "Requirement already satisfied: kiwisolver>=1.0.1 in c:\\users\\mutlu\\anaconda3\\lib\\site-packages (from matplotlib->catboost) (1.1.0)\n",
      "Requirement already satisfied: setuptools in c:\\users\\mutlu\\anaconda3\\lib\\site-packages (from kiwisolver>=1.0.1->matplotlib->catboost) (45.2.0.post20200210)\n"
     ]
    }
   ],
   "source": [
    "#!pip install catboost"
   ]
  },
  {
   "cell_type": "code",
   "execution_count": 6,
   "metadata": {},
   "outputs": [],
   "source": [
    "#veri\n",
    "df = pd.read_csv(\"diabetes.csv\")\n",
    "y = df[\"Outcome\"]\n",
    "X = df.drop(\"Outcome\", axis = 1)\n",
    "X_test, X_train, y_test, y_train = train_test_split(X,y,test_size = 0.30, random_state = 42)"
   ]
  },
  {
   "cell_type": "markdown",
   "metadata": {},
   "source": [
    "### Model & Tahmin"
   ]
  },
  {
   "cell_type": "code",
   "execution_count": 7,
   "metadata": {},
   "outputs": [],
   "source": [
    "cat_model = CatBoostClassifier().fit(X_train, y_train, verbose = False)"
   ]
  },
  {
   "cell_type": "code",
   "execution_count": 9,
   "metadata": {},
   "outputs": [
    {
     "data": {
      "text/plain": [
       "0.7392923649906891"
      ]
     },
     "execution_count": 9,
     "metadata": {},
     "output_type": "execute_result"
    }
   ],
   "source": [
    "y_pred = cat_model.predict(X_test)\n",
    "accuracy_score(y_test, y_pred)"
   ]
  },
  {
   "cell_type": "markdown",
   "metadata": {},
   "source": [
    "### Model Tuning"
   ]
  },
  {
   "cell_type": "markdown",
   "metadata": {},
   "source": [
    "* **n_estimators = iteration**\n",
    "* **learning_rate : öğrenme oranı**\n",
    "* **max_depth : dallanma maksimum değeri**"
   ]
  },
  {
   "cell_type": "code",
   "execution_count": 10,
   "metadata": {},
   "outputs": [],
   "source": [
    "cat_model = CatBoostClassifier()"
   ]
  },
  {
   "cell_type": "code",
   "execution_count": 14,
   "metadata": {},
   "outputs": [],
   "source": [
    "params = {\"iterations\":[500, 2000],\n",
    "         \"learning_rate\":[0.01],\n",
    "         \"max_depth\":[5]}\n",
    "#cok beklememek üzere parametreler kısa tutulmuştur"
   ]
  },
  {
   "cell_type": "code",
   "execution_count": 15,
   "metadata": {},
   "outputs": [
    {
     "name": "stdout",
     "output_type": "stream",
     "text": [
      "Fitting 5 folds for each of 2 candidates, totalling 10 fits\n"
     ]
    },
    {
     "name": "stderr",
     "output_type": "stream",
     "text": [
      "[Parallel(n_jobs=-1)]: Using backend LokyBackend with 4 concurrent workers.\n",
      "[Parallel(n_jobs=-1)]: Done  10 out of  10 | elapsed:   18.5s finished\n"
     ]
    }
   ],
   "source": [
    "cat_cv = GridSearchCV(cat_model, params, cv = 5, n_jobs = -1, verbose = 2).fit(X_train, y_train, verbose= False)"
   ]
  },
  {
   "cell_type": "code",
   "execution_count": 16,
   "metadata": {},
   "outputs": [
    {
     "data": {
      "text/plain": [
       "{'iterations': 500, 'learning_rate': 0.01, 'max_depth': 5}"
      ]
     },
     "execution_count": 16,
     "metadata": {},
     "output_type": "execute_result"
    }
   ],
   "source": [
    "cat_cv.best_params_"
   ]
  },
  {
   "cell_type": "code",
   "execution_count": 17,
   "metadata": {},
   "outputs": [],
   "source": [
    "#final\n",
    "cat_tuned = CatBoostClassifier(iterations = 500, learning_rate = 0.01, max_depth = 5).fit(X_train, y_train, verbose = False)"
   ]
  },
  {
   "cell_type": "code",
   "execution_count": 18,
   "metadata": {},
   "outputs": [
    {
     "data": {
      "text/plain": [
       "0.7411545623836127"
      ]
     },
     "execution_count": 18,
     "metadata": {},
     "output_type": "execute_result"
    }
   ],
   "source": [
    "y_pred = cat_tuned.predict(X_test)\n",
    "accuracy_score(y_test, y_pred)"
   ]
  },
  {
   "cell_type": "markdown",
   "metadata": {},
   "source": [
    "### Değişken önem sırası"
   ]
  },
  {
   "cell_type": "code",
   "execution_count": 19,
   "metadata": {},
   "outputs": [
    {
     "data": {
      "text/plain": [
       "<matplotlib.axes._subplots.AxesSubplot at 0x24e22072d88>"
      ]
     },
     "execution_count": 19,
     "metadata": {},
     "output_type": "execute_result"
    },
    {
     "data": {
      "image/png": "[encoded data removed]",
      "text/plain": [
       "<Figure size 432x288 with 1 Axes>"
      ]
     },
     "metadata": {
      "needs_background": "light"
     },
     "output_type": "display_data"
    }
   ],
   "source": [
    "important = pd.Series(cat_tuned.feature_importances_, index = X_train.columns ).sort_values(ascending= False)\n",
    "sns.barplot(x=important, y=important.index)"
   ]
  },
  {
   "cell_type": "code",
   "execution_count": null,
   "metadata": {},
   "outputs": [],
   "source": []
  }
 ],
 "metadata": {
  "kernelspec": {
   "display_name": "Python 3",
   "language": "python",
   "name": "python3"
  },
  "language_info": {
   "codemirror_mode": {
    "name": "ipython",
    "version": 3
   },
   "file_extension": ".py",
   "mimetype": "text/x-python",
   "name": "python",
   "nbconvert_exporter": "python",
   "pygments_lexer": "ipython3",
   "version": "3.7.6"
  }
 },
 "nbformat": 4,
 "nbformat_minor": 4
}
