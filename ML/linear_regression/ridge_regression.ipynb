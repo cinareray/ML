{
 "cells": [
  {
   "cell_type": "markdown",
   "metadata": {},
   "source": [
    "# RİDGE REGRESYON"
   ]
  },
  {
   "cell_type": "code",
   "execution_count": 146,
   "metadata": {},
   "outputs": [],
   "source": [
    "#Şuana kadar öğrenilen kutuphaneler\n",
    "import pandas as pd\n",
    "import numpy as np\n",
    "from sklearn.model_selection import train_test_split  #veri setini train ve test olarak ayrılması.\n",
    "from sklearn.linear_model import LinearRegression   #linear regresyon \n",
    "from sklearn.metrics import mean_squared_error, r2_score  # hata kareler toplamı ve r2 ifadesi oluşturulan katsayıların acıklanabilirliği\n",
    "import matplotlib.pyplot as plt  #Grafik çizimi için \n",
    "from sklearn.model_selection import cross_val_score"
   ]
  },
  {
   "cell_type": "code",
   "execution_count": 7,
   "metadata": {},
   "outputs": [],
   "source": [
    "#Ridge regresyon modeli sklearn içerinde \n",
    "from sklearn.linear_model import Ridge\n",
    "from sklearn.linear_model import RidgeCV"
   ]
  },
  {
   "cell_type": "markdown",
   "metadata": {},
   "source": [
    "## Veri Seti\n",
    "* **Oyuncuların attığı goller, assit sayıları, koşu sayıları, tecrube yıllarına göre bir fiyatlandırma yapılacak ve bu sayede alınacak transfer edilecek oyuncuya verilecek fiyat teklifinde(Salary) bir tahmin yapılacaktır.**"
   ]
  },
  {
   "cell_type": "code",
   "execution_count": 236,
   "metadata": {},
   "outputs": [],
   "source": [
    "#ridge regresyonu için kullanılacak olan veri seti beyzbol oyuncularının içerdiği beyzbol veri seti\n",
    "df = pd.read_csv(\"beyzbol_veri.csv\")\n",
    "\n",
    "df = df.dropna()   #Şuanda veri önişleme konu ile alakalı olmadığından işleme alınmamış eksik değerler uçurulmuştur.\n",
    "\n",
    "dms = pd.get_dummies(df[[\"League\", \"Division\", \"NewLeague\"]])  #One-hat dönüşümü degisken_standart_donusumu.jpynb\n",
    "\n",
    "y = df[\"Salary\"]  #oyuncuların değerleri ile tahmin yapılacak. Bağımlı değişken\n",
    "\n",
    "X_ = df.drop([\"Salary\",\"League\", \"Division\", \"NewLeague\"], axis = 1).astype(\"float64\") \n",
    "# df içinden league division ve newleague değişkenleri uçurarak one-hat dönüşümü yapılan bu değişkenler kullanılacak.\n",
    "\n",
    "X = pd.concat([X_, dms[[\"League_N\", \"Division_W\", \"NewLeague_N\"]]], axis = 1) #bağımsız değişkenler.\n",
    "\n",
    "X_train, X_test, y_train, y_test = train_test_split(X, y, train_size = 0.25, random_state = 42)"
   ]
  },
  {
   "cell_type": "code",
   "execution_count": 150,
   "metadata": {},
   "outputs": [],
   "source": [
    "# Kısaca ridgede model oluşturma\n",
    "ridge_model = Ridge(alpha = 0.1).fit(X_train, y_train)\n",
    "#alpha yani denklemdeki lamnda sayısı kullanıcı tarafından girilir. Şuanda 0.1 olarak seçilmiştir.\n",
    "#İlerleyen safhada lamda değeri en az hata kareler toplamını verecek değer seçimi yapılacaktır."
   ]
  },
  {
   "cell_type": "code",
   "execution_count": 151,
   "metadata": {},
   "outputs": [
    {
     "data": {
      "text/plain": [
       "array([-2.36536072e+00,  1.18139961e+01, -1.84437963e+01, -8.09672928e+00,\n",
       "        6.90821894e+00,  3.91264829e+00, -2.56585704e+01,  1.30382265e-01,\n",
       "       -1.16036796e+00,  3.84516020e+00,  2.66029876e+00, -1.92387379e-01,\n",
       "       -1.29042053e+00,  1.33166266e-02,  1.99822259e-02, -3.53561414e-01,\n",
       "        1.34121866e+02, -8.36655089e+01,  8.82625690e+01])"
      ]
     },
     "execution_count": 151,
     "metadata": {},
     "output_type": "execute_result"
    }
   ],
   "source": [
    "# Her bir bağımsız değişken için katsayı üretildi X bağımsız \n",
    "ridge_model.coef_"
   ]
  },
  {
   "cell_type": "markdown",
   "metadata": {},
   "source": [
    "## En iyi sonuç veren yani en az hatayı alan Lamda seçimi (alpha)"
   ]
  },
  {
   "cell_type": "markdown",
   "metadata": {},
   "source": [
    "* **En düşün RMS değerini veren lamda seçiminde rastgele lamda değerleri oluşturulacak. Bu lamda değerleri model oluşturrulken alpha değerlerine yazılacak(..set_params(alpha = ..)) ve modelin katsayıları gözlemlenecek.**"
   ]
  },
  {
   "cell_type": "code",
   "execution_count": 152,
   "metadata": {},
   "outputs": [
    {
     "data": {
      "text/plain": [
       "array([ 50.        ,  49.39393939,  48.78787879,  48.18181818,\n",
       "        47.57575758,  46.96969697,  46.36363636,  45.75757576,\n",
       "        45.15151515,  44.54545455,  43.93939394,  43.33333333,\n",
       "        42.72727273,  42.12121212,  41.51515152,  40.90909091,\n",
       "        40.3030303 ,  39.6969697 ,  39.09090909,  38.48484848,\n",
       "        37.87878788,  37.27272727,  36.66666667,  36.06060606,\n",
       "        35.45454545,  34.84848485,  34.24242424,  33.63636364,\n",
       "        33.03030303,  32.42424242,  31.81818182,  31.21212121,\n",
       "        30.60606061,  30.        ,  29.39393939,  28.78787879,\n",
       "        28.18181818,  27.57575758,  26.96969697,  26.36363636,\n",
       "        25.75757576,  25.15151515,  24.54545455,  23.93939394,\n",
       "        23.33333333,  22.72727273,  22.12121212,  21.51515152,\n",
       "        20.90909091,  20.3030303 ,  19.6969697 ,  19.09090909,\n",
       "        18.48484848,  17.87878788,  17.27272727,  16.66666667,\n",
       "        16.06060606,  15.45454545,  14.84848485,  14.24242424,\n",
       "        13.63636364,  13.03030303,  12.42424242,  11.81818182,\n",
       "        11.21212121,  10.60606061,  10.        ,   9.39393939,\n",
       "         8.78787879,   8.18181818,   7.57575758,   6.96969697,\n",
       "         6.36363636,   5.75757576,   5.15151515,   4.54545455,\n",
       "         3.93939394,   3.33333333,   2.72727273,   2.12121212,\n",
       "         1.51515152,   0.90909091,   0.3030303 ,  -0.3030303 ,\n",
       "        -0.90909091,  -1.51515152,  -2.12121212,  -2.72727273,\n",
       "        -3.33333333,  -3.93939394,  -4.54545455,  -5.15151515,\n",
       "        -5.75757576,  -6.36363636,  -6.96969697,  -7.57575758,\n",
       "        -8.18181818,  -8.78787879,  -9.39393939, -10.        ])"
      ]
     },
     "execution_count": 152,
     "metadata": {},
     "output_type": "execute_result"
    }
   ],
   "source": [
    "#hiperparametre değerleri... Kullanılacak olan lamdalar\n",
    "lamdalar = 10*np.linspace(10,-2,100)*0.5\n",
    "lamdalar"
   ]
  },
  {
   "cell_type": "code",
   "execution_count": 153,
   "metadata": {},
   "outputs": [],
   "source": [
    "katsayilar =[]\n",
    "ridge_model=Ridge()\n",
    "\n",
    "for i in lamdalar: #lamdalarda gez\n",
    "    ridge_model.set_params(alpha = i)  #alınan lamda değerini modelin alpha değerine yaz  \n",
    "    ridge_model.fit(X_train, y_train)  #modeli fit et yani kur\n",
    "    katsayilar.append(ridge_model.coef_) #kurduğun modelin katsayılarını katsayilar listesine ekle\n",
    "#görüldüğü üzere her lamda değerine karşı elminzde 19 adet yani bağımsız değişken sayısı kadar katsayılar mevcut."
   ]
  },
  {
   "cell_type": "code",
   "execution_count": 154,
   "metadata": {},
   "outputs": [
    {
     "data": {
      "image/png": "[encoded data removed]",
      "text/plain": [
       "<Figure size 432x288 with 1 Axes>"
      ]
     },
     "metadata": {
      "needs_background": "light"
     },
     "output_type": "display_data"
    }
   ],
   "source": [
    "#Grafik üzerinden gözlemleyelim.\n",
    "ax = plt.gca()\n",
    "ax.plot(lamdalar, katsayilar)\n",
    "ax.set_xscale(\"log\")\n"
   ]
  },
  {
   "cell_type": "markdown",
   "metadata": {},
   "source": [
    "* **Grafik lamda değerlerine karşılık(Xekseni) katsayilardaki değerleri(y ekseni) gösterilmektedir.**\n",
    "* **Ridge regresyonu yapısı olarak katsayılarını sıfıra yaklaştırmaktadır. Grafiktede görülmektedir.**\n",
    "* **Farklı lamda değerlerine karşılık,beta katsatılarının değerlerinin nasıl bir değer aldığı gözlemlenmektedir.**"
   ]
  },
  {
   "cell_type": "markdown",
   "metadata": {},
   "source": [
    "### Ridge regresyon ile tahmin."
   ]
  },
  {
   "cell_type": "code",
   "execution_count": 155,
   "metadata": {},
   "outputs": [],
   "source": [
    "#modelimizi train üzerinden kuralım\n",
    "ridge_model = Ridge().fit(X_train, y_train)  #alpha değeri şuan girilmedi en son ne ise o olacaktır."
   ]
  },
  {
   "cell_type": "code",
   "execution_count": 156,
   "metadata": {},
   "outputs": [],
   "source": [
    "#x train değerlerine göre y tahmin değerleri bulundu.\n",
    "y_train_tahmin = ridge_model.predict(X_train)"
   ]
  },
  {
   "cell_type": "code",
   "execution_count": 157,
   "metadata": {},
   "outputs": [
    {
     "data": {
      "text/plain": [
       "112    1925.571\n",
       "293     925.000\n",
       "300    1150.000\n",
       "119     362.500\n",
       "9      1100.000\n",
       "Name: Salary, dtype: float64"
      ]
     },
     "execution_count": 157,
     "metadata": {},
     "output_type": "execute_result"
    }
   ],
   "source": [
    "#gerçek y değer\n",
    "y_train.head()"
   ]
  },
  {
   "cell_type": "code",
   "execution_count": 158,
   "metadata": {},
   "outputs": [
    {
     "data": {
      "text/plain": [
       "array([1299.90755298,  810.18874543,  806.84484345,  321.74043473,\n",
       "        821.93992616,  221.87325532,  263.35539356,  594.93256336,\n",
       "        102.69512854,  231.66222965])"
      ]
     },
     "execution_count": 158,
     "metadata": {},
     "output_type": "execute_result"
    }
   ],
   "source": [
    "#tamin değerleri\n",
    "y_train_tahmin[0:10]"
   ]
  },
  {
   "cell_type": "markdown",
   "metadata": {},
   "source": [
    "### Train Hatası"
   ]
  },
  {
   "cell_type": "markdown",
   "metadata": {},
   "source": [
    "* **TRAİN(EĞİTİM) HATASI MODELLERİN KATSATILARI SEÇİMİNDE KULLANILAN HATADIR. TRAİN HATASI TEST HATASININ KÖTÜ BİR TAHMİNCİSİDİR.**"
   ]
  },
  {
   "cell_type": "code",
   "execution_count": 159,
   "metadata": {},
   "outputs": [
    {
     "data": {
      "text/plain": [
       "(198.42873506079243, 39373.96289782616)"
      ]
     },
     "execution_count": 159,
     "metadata": {},
     "output_type": "execute_result"
    }
   ],
   "source": [
    "# Train HATASI\n",
    "MSE_train =mean_squared_error(y_train, y_train_tahmin)\n",
    "RMSE_train = np.sqrt(MSE_train)\n",
    "RMSE_train, MSE_train"
   ]
  },
  {
   "cell_type": "code",
   "execution_count": 166,
   "metadata": {},
   "outputs": [
    {
     "data": {
      "text/plain": [
       "353.380713646868"
      ]
     },
     "execution_count": 166,
     "metadata": {},
     "output_type": "execute_result"
    }
   ],
   "source": [
    "#Train hatası Cross Validation ile kurulduktan sonra RMSE hatası\n",
    "RMSE_train_CV=np.sqrt(np.mean(-cross_val_score(ridge_model, X_train, y_train, cv = 10, scoring = \"neg_mean_squared_error\" )))\n",
    "RMSE_train_CV"
   ]
  },
  {
   "cell_type": "markdown",
   "metadata": {},
   "source": [
    "### Test Hatası"
   ]
  },
  {
   "cell_type": "markdown",
   "metadata": {},
   "source": [
    "* **TEST HATASI MODEL KARŞILAŞTIRMADA KULLANILACAK OLAN HATADIR.**"
   ]
  },
  {
   "cell_type": "code",
   "execution_count": 167,
   "metadata": {},
   "outputs": [],
   "source": [
    "#oluşturulan model ile test kısmı ile ayıralan veri değerleri üzerinde bir tahmin işlemi yapılacak ve burdan\n",
    "#alınacak hata test hatası olacaktır."
   ]
  },
  {
   "cell_type": "code",
   "execution_count": 169,
   "metadata": {},
   "outputs": [
    {
     "data": {
      "text/plain": [
       "array([274.88569992, 829.42868106, 551.05269241, 442.05561226,\n",
       "       193.36719922, 496.35183821, 677.44789875, 516.90104556,\n",
       "       465.686074  , 470.01063461])"
      ]
     },
     "execution_count": 169,
     "metadata": {},
     "output_type": "execute_result"
    }
   ],
   "source": [
    "y_test_tahmin = ridge_model.predict(X_test)"
   ]
  },
  {
   "cell_type": "code",
   "execution_count": 171,
   "metadata": {
    "collapsed": true,
    "jupyter": {
     "outputs_hidden": true
    }
   },
   "outputs": [
    {
     "data": {
      "text/plain": [
       "148    850.0\n",
       "154    277.5\n",
       "318    875.0\n",
       "279    150.0\n",
       "88     260.0\n",
       "Name: Salary, dtype: float64"
      ]
     },
     "execution_count": 171,
     "metadata": {},
     "output_type": "execute_result"
    }
   ],
   "source": [
    "#gerçek y değeri\n",
    "y_test[0:5]"
   ]
  },
  {
   "cell_type": "code",
   "execution_count": 172,
   "metadata": {},
   "outputs": [
    {
     "data": {
      "text/plain": [
       "array([274.88569992, 829.42868106, 551.05269241, 442.05561226,\n",
       "       193.36719922])"
      ]
     },
     "execution_count": 172,
     "metadata": {},
     "output_type": "execute_result"
    }
   ],
   "source": [
    "#tahmin edilen y değeri\n",
    "y_test_tahmin[0:5]"
   ]
  },
  {
   "cell_type": "code",
   "execution_count": 176,
   "metadata": {},
   "outputs": [
    {
     "data": {
      "text/plain": [
       "(396.3236907086229, 157072.4678169042)"
      ]
     },
     "execution_count": 176,
     "metadata": {},
     "output_type": "execute_result"
    }
   ],
   "source": [
    "MSE_test = mean_squared_error(y_test, y_test_tahmin)\n",
    "RMSE_test = np.sqrt(MSE_test)\n",
    "RMSE_test, MSE_test"
   ]
  },
  {
   "cell_type": "markdown",
   "metadata": {},
   "source": [
    "# MODEL TUNİNG  Optimum lamda değerinin bulunup hatalarının karşılaştırılması."
   ]
  },
  {
   "cell_type": "markdown",
   "metadata": {},
   "source": [
    "* **Lamda değeri minimum değerde MSE yada RMSE değerini veren optimum lamda değerini bularak tahmin işleminin yapılması.**"
   ]
  },
  {
   "cell_type": "code",
   "execution_count": 179,
   "metadata": {},
   "outputs": [
    {
     "data": {
      "text/plain": [
       "396.3236907086229"
      ]
     },
     "execution_count": 179,
     "metadata": {},
     "output_type": "execute_result"
    }
   ],
   "source": [
    "ridge_model = Ridge().fit(X_train, y_train)  #train üzerinden model oluşturulması \n",
    "y_tahmin = ridge_model.predict(X_test)  #oluşturulan model ile test verileri üzerinde tahmin yapılması\n",
    "RMSE = np.sqrt(np.mean(mean_squared_error(y_test, y_tahmin))) #hata kareler toplamının karekoku\n",
    "RMSE"
   ]
  },
  {
   "cell_type": "code",
   "execution_count": 183,
   "metadata": {},
   "outputs": [],
   "source": [
    "# uygun lamda bulunması için oluşturulan lamda listeleri.\n",
    "lamdalar1 = 10*np.linspace(10,-2,100)*0.5\n",
    "lamdalar2 = np.random.randint(0,1000,100)"
   ]
  },
  {
   "cell_type": "code",
   "execution_count": 184,
   "metadata": {},
   "outputs": [],
   "source": [
    "#yukarıda yapılan donguyu kısaltan RidgeCV kutuphaneninin kullanılması\n",
    "from sklearn.linear_model import RidgeCV"
   ]
  },
  {
   "cell_type": "code",
   "execution_count": 232,
   "metadata": {
    "collapsed": true,
    "jupyter": {
     "outputs_hidden": true
    }
   },
   "outputs": [
    {
     "data": {
      "text/plain": [
       "RidgeCV(alphas=array([ 50.        ,  49.39393939,  48.78787879,  48.18181818,\n",
       "        47.57575758,  46.96969697,  46.36363636,  45.75757576,\n",
       "        45.15151515,  44.54545455,  43.93939394,  43.33333333,\n",
       "        42.72727273,  42.12121212,  41.51515152,  40.90909091,\n",
       "        40.3030303 ,  39.6969697 ,  39.09090909,  38.48484848,\n",
       "        37.87878788,  37.27272727,  36.66666667,  36.06060606,\n",
       "        35.45454545,  34.84848485,  34.24242424,  33.63636364,\n",
       "        33...\n",
       "         3.93939394,   3.33333333,   2.72727273,   2.12121212,\n",
       "         1.51515152,   0.90909091,   0.3030303 ,  -0.3030303 ,\n",
       "        -0.90909091,  -1.51515152,  -2.12121212,  -2.72727273,\n",
       "        -3.33333333,  -3.93939394,  -4.54545455,  -5.15151515,\n",
       "        -5.75757576,  -6.36363636,  -6.96969697,  -7.57575758,\n",
       "        -8.18181818,  -8.78787879,  -9.39393939, -10.        ]),\n",
       "        cv=10, fit_intercept=True, gcv_mode=None, normalize=True,\n",
       "        scoring='neg_mean_squared_error', store_cv_values=False)"
      ]
     },
     "execution_count": 232,
     "metadata": {},
     "output_type": "execute_result"
    }
   ],
   "source": [
    "ridge_model = RidgeCV(alphas = lamdalar1, scoring = \"neg_mean_squared_error\", \n",
    "                      cv = 10, normalize = True )\n",
    "ridge_model.fit(X_train, y_train)\n",
    "#RidgeCV algoritması optimum alpha yı bularak model oluşturmaktadır. lamdalar listesi girilir\n",
    "#Lamdaları karşılaştıracak olçüt girilir(MSE). Cross validation yapılır. Normalize edilieler 0-1 arasında bir\n",
    "#standartlandırma yapılır. en son olarak model train üzerinde kurulur."
   ]
  },
  {
   "cell_type": "code",
   "execution_count": 233,
   "metadata": {},
   "outputs": [
    {
     "data": {
      "text/plain": [
       "2.1212121212121193"
      ]
     },
     "execution_count": 233,
     "metadata": {},
     "output_type": "execute_result"
    }
   ],
   "source": [
    "ridge_model.alpha_  #kurulan modelin alphalar arasında optimum değer olarak 2.12 değerini almış"
   ]
  },
  {
   "cell_type": "code",
   "execution_count": 234,
   "metadata": {},
   "outputs": [],
   "source": [
    "y_tahmin = ridge_model.predict(X_test)"
   ]
  },
  {
   "cell_type": "markdown",
   "metadata": {},
   "source": [
    "## Final model. Optimum alphayı bulunmuş model kurmak\n"
   ]
  },
  {
   "cell_type": "code",
   "execution_count": 235,
   "metadata": {},
   "outputs": [
    {
     "data": {
      "text/plain": [
       "394.1892169837763"
      ]
     },
     "execution_count": 235,
     "metadata": {},
     "output_type": "execute_result"
    }
   ],
   "source": [
    "#lamdalar listesinden optimum lamda bulunduktan sonra Ridge ile son olarak optimum değer ile bir model oluşturulur.\n",
    "ridge_model_tuned= Ridge(ridge_model.alpha_).fit(X_train, y_train)\n",
    "y_tahmin_tuned = ridge_model_tuned.predict(X_test)\n",
    "RMSE_tuned = np.sqrt(mean_squared_error(y_test, y_tahmin_tuned))\n",
    "RMSE_tuned"
   ]
  },
  {
   "cell_type": "code",
   "execution_count": null,
   "metadata": {},
   "outputs": [],
   "source": []
  },
  {
   "cell_type": "code",
   "execution_count": null,
   "metadata": {},
   "outputs": [],
   "source": []
  },
  {
   "cell_type": "code",
   "execution_count": null,
   "metadata": {},
   "outputs": [],
   "source": []
  }
 ],
 "metadata": {
  "kernelspec": {
   "display_name": "Python 3",
   "language": "python",
   "name": "python3"
  },
  "language_info": {
   "codemirror_mode": {
    "name": "ipython",
    "version": 3
   },
   "file_extension": ".py",
   "mimetype": "text/x-python",
   "name": "python",
   "nbconvert_exporter": "python",
   "pygments_lexer": "ipython3",
   "version": "3.8.3"
  }
 },
 "nbformat": 4,
 "nbformat_minor": 4
}
