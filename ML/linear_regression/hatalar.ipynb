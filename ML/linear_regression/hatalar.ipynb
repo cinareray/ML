{
 "cells": [
  {
   "cell_type": "markdown",
   "metadata": {},
   "source": [
    "# ARTIKLAR/HATALAR (RESİDUALS)"
   ]
  },
  {
   "cell_type": "markdown",
   "metadata": {},
   "source": [
    "* **MODEL OLUŞTURULDUKTAN SONRA MODEL FONKSİYONU İLE TAHMİN YAPILDI. ŞİMDİ EN ÖNEMLİ KONULARADN BİRİSİ OLAN ARTIKLAR/HATALAR GÖZLEMLEMESİDİR. BU SAYEDE OLUŞTURULAN MODELİN DEĞERLENDİRİLMESİ BAŞARISI GÖZLEMLENEBİLİR. İSTENİR Kİ OLUŞTURULAN MODELİN HATASI MİNİMUM DEĞERDE OLMASI.** "
   ]
  },
  {
   "cell_type": "code",
   "execution_count": 47,
   "metadata": {},
   "outputs": [],
   "source": [
    "import pandas as pd\n",
    "df = pd.read_csv(\"Adversiting.csv\")\n",
    "df = df.iloc[:, 1:len(df)]\n",
    "from sklearn.linear_model import LinearRegression\n",
    "X=df[[\"TV\"]]\n",
    "y=df[[\"sales\"]]\n",
    "reg = LinearRegression() #DÖNÜŞTÜRÜCÜ\n",
    "model = reg.fit(X, y)\n",
    "b0 = model.intercept_\n",
    "b1 = model.coef_ "
   ]
  },
  {
   "cell_type": "code",
   "execution_count": 48,
   "metadata": {},
   "outputs": [],
   "source": [
    "#model oluşturuldu."
   ]
  },
  {
   "cell_type": "markdown",
   "metadata": {},
   "source": [
    "* **TAHMİN EDİLEN DEĞER İLE GERÇEK DEĞER ARASINDAKİ FARK YANİ HATALARI GÖZLEMLEYELİM**"
   ]
  },
  {
   "cell_type": "code",
   "execution_count": 108,
   "metadata": {},
   "outputs": [],
   "source": [
    "hatalar = pd.DataFrame(y) #gerçek değer"
   ]
  },
  {
   "cell_type": "code",
   "execution_count": 114,
   "metadata": {},
   "outputs": [],
   "source": [
    "hatalar[\"Tahmin_y\"] = model.predict(X)  #tahmin değerleri"
   ]
  },
  {
   "cell_type": "code",
   "execution_count": 115,
   "metadata": {},
   "outputs": [],
   "source": [
    "hatalar.columns = [\"gercek_y\", \"Tahmin_y\"]"
   ]
  },
  {
   "cell_type": "code",
   "execution_count": 116,
   "metadata": {},
   "outputs": [],
   "source": [
    "hatalar[\"hata\"] = hatalar[\"gercek_y\"]-hatalar[\"Tahmin_y\"]"
   ]
  },
  {
   "cell_type": "markdown",
   "metadata": {
    "jupyter": {
     "outputs_hidden": true
    }
   },
   "source": [
    "## MSE (hata kareler ortalaması) ile model değerlendirme"
   ]
  },
  {
   "cell_type": "code",
   "execution_count": 119,
   "metadata": {},
   "outputs": [],
   "source": [
    "hatalar[\"hata_kare\"] = hatalar[\"hata\"]**2"
   ]
  },
  {
   "cell_type": "code",
   "execution_count": 124,
   "metadata": {},
   "outputs": [],
   "source": [
    "MSE = hatalar[\"hata_kare\"].mean()"
   ]
  },
  {
   "cell_type": "code",
   "execution_count": 125,
   "metadata": {},
   "outputs": [
    {
     "data": {
      "text/plain": [
       "10.512652915656753"
      ]
     },
     "execution_count": 125,
     "metadata": {},
     "output_type": "execute_result"
    }
   ],
   "source": [
    "MSE"
   ]
  },
  {
   "cell_type": "code",
   "execution_count": null,
   "metadata": {},
   "outputs": [],
   "source": []
  },
  {
   "cell_type": "code",
   "execution_count": null,
   "metadata": {},
   "outputs": [],
   "source": []
  },
  {
   "cell_type": "code",
   "execution_count": null,
   "metadata": {},
   "outputs": [],
   "source": []
  }
 ],
 "metadata": {
  "kernelspec": {
   "display_name": "Python 3",
   "language": "python",
   "name": "python3"
  },
  "language_info": {
   "codemirror_mode": {
    "name": "ipython",
    "version": 3
   },
   "file_extension": ".py",
   "mimetype": "text/x-python",
   "name": "python",
   "nbconvert_exporter": "python",
   "pygments_lexer": "ipython3",
   "version": "3.8.3"
  }
 },
 "nbformat": 4,
 "nbformat_minor": 4
}
