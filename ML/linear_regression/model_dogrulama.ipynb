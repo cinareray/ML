{
 "cells": [
  {
   "cell_type": "markdown",
   "metadata": {},
   "source": [
    "# MODEL TUNİNG - MODEL DOĞRULAMA"
   ]
  },
  {
   "cell_type": "markdown",
   "metadata": {},
   "source": [
    "# NOT: GERÇEK MODEL TUNİNG ridge_regression.jpynb DOSYASININ ALTINDA MEVCUTTUR. BURADA MODEL TUNİNG GİRİL YAPILMIŞTIR. HOLDOUT VE K.KATLI CROSS VALIDATION ARASINDAKİ HATALAR KARŞILAŞTIRILMIŞTIR."
   ]
  },
  {
   "cell_type": "markdown",
   "metadata": {},
   "source": [
    "* **Model doğrulama yönetemlerinde Holdout Yöntemi(Sınama Seti) ve K.katlı Çapraz Doğrulama (K fold Cross Validation) bulunmaktadırç**\n",
    "* **K. Katlı Çapraz doğrulamada Veri seti , eğitim seti ve test seti olmak üzere ikiye ayrılmaktadır. Eğitim seti içerisinde Cross Validation(Cv) yani 5 katlı veya 10 katlı olmak üzere gruplara bölünmektedir. Bu bölünen grupların 1 tanesı ele alınıp diğer kalan grup üyeleri ile model oluştururlur ve sonra ele alınan grup ile test eldilir.**"
   ]
  },
  {
   "cell_type": "markdown",
   "metadata": {},
   "source": [
    "## Holdout Yöntemi(Sınama Seti)"
   ]
  },
  {
   "cell_type": "code",
   "execution_count": 6,
   "metadata": {},
   "outputs": [],
   "source": [
    "import pandas as pd\n",
    "df = pd.read_csv(\"Adversiting.csv\")\n",
    "df = df.iloc[:, 1:len(df)]\n",
    "X = df.drop(\"sales\", axis = 1)\n",
    "y = df[[\"sales\"]]"
   ]
  },
  {
   "cell_type": "code",
   "execution_count": 23,
   "metadata": {},
   "outputs": [],
   "source": [
    "# Holdout Seti (Sınama Seti) yöntemi\n",
    "from sklearn.linear_model import LinearRegression\n",
    "from sklearn.model_selection import train_test_split\n",
    "from sklearn.metrics import mean_squared_error"
   ]
  },
  {
   "cell_type": "code",
   "execution_count": 96,
   "metadata": {},
   "outputs": [],
   "source": [
    "X_train, X_test, y_train, y_test = train_test_split(X, y, test_size = 0.20, random_state= 99)\n",
    "# * train_test_split fonksiyonu toplam veri setini test ve eğitim seti olarak ikiye ayrılması için kullanılır.\n",
    "#  train_test_split parametreleri Bağımsız değişken, bağımlı değişken, test setinin boyutu, ve her seferinde çalıştırıdığında\n",
    "#  eğitim seti ve test seti tekrar atanmasın diye random_State = 99 çalışmada aynı kalması için yazılır..\n",
    "# * Eğitim setinde bağımsız değişken(X_train) ve bağımlı değişken(y_train) bulunmakta, Test setinde bağımsız değişken(X_test)\n",
    "#  ve bağımlı değişken(y_test) olarak ayrılmakta. \n",
    "# * Sonuc olarak X_train, X_test ve y_train, y_test olarak veri setimiz bölündü"
   ]
  },
  {
   "cell_type": "code",
   "execution_count": 79,
   "metadata": {},
   "outputs": [],
   "source": [
    "lm = LinearRegression()  #Dönüştürücü Model oluşturmak için"
   ]
  },
  {
   "cell_type": "code",
   "execution_count": 80,
   "metadata": {},
   "outputs": [],
   "source": [
    "model = lm.fit(X_train, y_train)  #model oluşturuldu. Eğitim setini kullanarak"
   ]
  },
  {
   "cell_type": "code",
   "execution_count": 119,
   "metadata": {},
   "outputs": [
    {
     "data": {
      "text/plain": [
       "array([[ 0.04688034,  0.1824328 , -0.00164674]])"
      ]
     },
     "execution_count": 119,
     "metadata": {},
     "output_type": "execute_result"
    }
   ],
   "source": [
    "model.coef_"
   ]
  },
  {
   "cell_type": "markdown",
   "metadata": {},
   "source": [
    "###  Eğitim hatası:"
   ]
  },
  {
   "cell_type": "code",
   "execution_count": 95,
   "metadata": {},
   "outputs": [
    {
     "data": {
      "text/plain": [
       "2.863956307325517"
      ]
     },
     "execution_count": 95,
     "metadata": {},
     "output_type": "execute_result"
    }
   ],
   "source": [
    "# MSE = hata kareler ortalaması hesaplanarak model değerlendirilmesi yapılır. \n",
    "MSE = mean_squared_error(y_train, model.predict(X_train))  \n",
    "MSE"
   ]
  },
  {
   "cell_type": "code",
   "execution_count": 115,
   "metadata": {},
   "outputs": [
    {
     "data": {
      "text/plain": [
       "1.738953135699826"
      ]
     },
     "execution_count": 115,
     "metadata": {},
     "output_type": "execute_result"
    }
   ],
   "source": [
    "import numpy as np\n",
    "RMSE = np.sqrt(mean_squared_error(y_train, model.predict(X_train)))  #hata kareler toplamının karekökü\n",
    "RMSE"
   ]
  },
  {
   "cell_type": "markdown",
   "metadata": {},
   "source": [
    "### Test Hatası :"
   ]
  },
  {
   "cell_type": "code",
   "execution_count": 38,
   "metadata": {},
   "outputs": [
    {
     "data": {
      "text/plain": [
       "(1.4312783138301641, 2.0485576116405175)"
      ]
     },
     "execution_count": 38,
     "metadata": {},
     "output_type": "execute_result"
    }
   ],
   "source": [
    "MSE = mean_squared_error(y_test, model.predict(X_test))\n",
    "RMSE = np.sqrt(MSE)\n",
    "RMSE, MSE"
   ]
  },
  {
   "cell_type": "markdown",
   "metadata": {},
   "source": [
    "## K. Katlı Çapraz Doğrulama ( k.fold cross validation )"
   ]
  },
  {
   "cell_type": "markdown",
   "metadata": {},
   "source": [
    "* **Tavsiye Edilen Veri seti eğitim seti ve test seti olarak ikiye ayrıldıktan sonra test seti en son değerlendirme için kullanılması için kenarda bırakılıp, sanki eğitim seti varmış gibi davranılması gerektiğini tavsiye edilmiştir.**"
   ]
  },
  {
   "cell_type": "code",
   "execution_count": 39,
   "metadata": {},
   "outputs": [],
   "source": [
    "from sklearn.model_selection import cross_val_score"
   ]
  },
  {
   "cell_type": "code",
   "execution_count": 97,
   "metadata": {},
   "outputs": [],
   "source": [
    "X_train, X_test, y_train, y_test = train_test_split(X, y, test_size = 0.20, random_state= 1)\n",
    "# eğitim seti ve test seti olarak ayrıldı."
   ]
  },
  {
   "cell_type": "code",
   "execution_count": 40,
   "metadata": {},
   "outputs": [
    {
     "data": {
      "text/plain": [
       "LinearRegression(copy_X=True, fit_intercept=True, n_jobs=None, normalize=False)"
      ]
     },
     "execution_count": 40,
     "metadata": {},
     "output_type": "execute_result"
    }
   ],
   "source": [
    "model = lm.fit(X_train, y_train) #model oluşturuludu. T-Eğiğim seti ile model oluşturulmuştur"
   ]
  },
  {
   "cell_type": "markdown",
   "metadata": {},
   "source": [
    "* **K. Katlı Çapraz doğrulamada Veri seti , eğitim seti ve test seti olmak üzere ikiye ayrılmaktadır. Eğitim seti içerisinde Cross Validation(Cv) yani 5 katlı veya 10 katlı olmak üzere gruplara bölünmektedir. Bu bölünen grupların 1 tanesı ele alınıp diğer kalan grup üyeleri ile model oluştururlur ve sonra ele alınan grup ile test eldilir.**"
   ]
  },
  {
   "cell_type": "code",
   "execution_count": 106,
   "metadata": {},
   "outputs": [
    {
     "data": {
      "text/plain": [
       "array([-1.62375953, -3.81875608, -3.43828142, -2.27748673, -7.25325414,\n",
       "       -1.88303708, -2.80517715, -3.68594486, -1.12810834, -3.96330989])"
      ]
     },
     "execution_count": 106,
     "metadata": {},
     "output_type": "execute_result"
    }
   ],
   "source": [
    "# Şimdi cross validation ayarlayarak eğitim setini gruplara ayıralım.\n",
    "cross_val_score(model, X_train, y_train, cv = 10, scoring = \"neg_mean_squared_error\")\n",
    "# görüldüğü üzere eğitim seti 10 katlı olarak ayrıldı. scoring = ile hata kareler ortalaması elde edilebilir."
   ]
  },
  {
   "cell_type": "markdown",
   "metadata": {},
   "source": [
    "* **Eğitim seti içerisi 10 parçaya ayrıldı. bir tanesi dışarıda bıraklıdı ve geriye kalan 9 tanesi ile model oluşturuldu. kenara ayrılan ile model test edildi ve bir hata elde edildi. Elimizde 10 tane grup olduğundan dolayı 10 adet hata elimizde mevcut.**"
   ]
  },
  {
   "cell_type": "code",
   "execution_count": 104,
   "metadata": {},
   "outputs": [
    {
     "data": {
      "text/plain": [
       "3.187711520944358"
      ]
     },
     "execution_count": 104,
     "metadata": {},
     "output_type": "execute_result"
    }
   ],
   "source": [
    "# Hataların ortalamasını ele aldığımızda. - işaret hataların eksi olmasından yazılmıştır.\n",
    "np.mean(-cross_val_score(model, X_train, y_train, cv = 10, scoring = \"neg_mean_squared_error\"))"
   ]
  },
  {
   "cell_type": "code",
   "execution_count": 120,
   "metadata": {},
   "outputs": [
    {
     "data": {
      "text/plain": [
       "1.7854163438661466"
      ]
     },
     "execution_count": 120,
     "metadata": {},
     "output_type": "execute_result"
    }
   ],
   "source": [
    "# Cv Rmse\n",
    "import numpy as np\n",
    "np.sqrt(np.mean(-cross_val_score(model, X_train, y_train, cv= 10, scoring =\"neg_mean_squared_error\")))"
   ]
  },
  {
   "cell_type": "markdown",
   "metadata": {},
   "source": [
    "* **Burda bulunan hata değerleri Holdout yönteminde bulnan hata değerlendirmesinde doğrulamasıdır. Burda 10 kere test edilmiş ortalama halde bulunan hata mevcuttur.**\n",
    "* **Holdout yöntemi ve K.katlı capraz doğrulama hataları karşılaştırılmıştır.**"
   ]
  },
  {
   "cell_type": "code",
   "execution_count": null,
   "metadata": {},
   "outputs": [],
   "source": []
  }
 ],
 "metadata": {
  "kernelspec": {
   "display_name": "Python 3",
   "language": "python",
   "name": "python3"
  },
  "language_info": {
   "codemirror_mode": {
    "name": "ipython",
    "version": 3
   },
   "file_extension": ".py",
   "mimetype": "text/x-python",
   "name": "python",
   "nbconvert_exporter": "python",
   "pygments_lexer": "ipython3",
   "version": "3.8.3"
  }
 },
 "nbformat": 4,
 "nbformat_minor": 4
}
