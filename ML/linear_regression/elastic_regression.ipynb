{
 "cells": [
  {
   "cell_type": "markdown",
   "metadata": {},
   "source": [
    "# ELASTİCNET REGRESSİON"
   ]
  },
  {
   "cell_type": "code",
   "execution_count": 6,
   "metadata": {},
   "outputs": [],
   "source": [
    "from sklearn.linear_model import Lasso, Ridge, ElasticNet  #elasticNet model seçimi\n",
    "from sklearn.linear_model import RidgeCV, ElasticNetCV   #ElasticNET cross validation seçini\n",
    "import pandas as pd\n",
    "import numpy as np\n",
    "from sklearn.model_selection import train_test_split, cross_val_score\n",
    "from sklearn.metrics import mean_squared_error, r2_score"
   ]
  },
  {
   "cell_type": "code",
   "execution_count": 16,
   "metadata": {},
   "outputs": [],
   "source": [
    "#Veri seti\n",
    "df = pd.read_csv(\"beyzbol_veri.csv\")\n",
    "\n",
    "df = df.dropna()   #Şuanda veri önişleme konu ile alakalı olmadığından işleme alınmamış eksik değerler uçurulmuştur.\n",
    "\n",
    "dms = pd.get_dummies(df[[\"League\", \"Division\", \"NewLeague\"]])  #One-hat dönüşümü degisken_standart_donusumu.jpynb\n",
    "\n",
    "y = df[\"Salary\"]  #oyuncuların değerleri ile tahmin yapılacak. Bağımlı değişken\n",
    "\n",
    "X_ = df.drop([\"Salary\",\"League\", \"Division\", \"NewLeague\"], axis = 1).astype(\"float64\") \n",
    "# df içinden league division ve newleague değişkenleri uçurarak one-hat dönüşümü yapılan bu değişkenler kullanılacak.\n",
    "\n",
    "X = pd.concat([X_, dms[[\"League_N\", \"Division_W\", \"NewLeague_N\"]]], axis = 1) #bağımsız değişkenler.\n",
    "\n",
    "X_train, X_test, y_train, y_test = train_test_split(X, y, train_size = 0.25, random_state = 42)"
   ]
  },
  {
   "cell_type": "code",
   "execution_count": 17,
   "metadata": {},
   "outputs": [
    {
     "name": "stderr",
     "output_type": "stream",
     "text": [
      "C:\\Users\\Mutlu\\anaconda3\\lib\\site-packages\\sklearn\\linear_model\\_coordinate_descent.py:476: ConvergenceWarning: Objective did not converge. You might want to increase the number of iterations. Duality gap: 1512791.8875564984, tolerance: 866.4061181073539\n",
      "  positive)\n"
     ]
    }
   ],
   "source": [
    "enet_model = ElasticNet().fit(X_train, y_train)  #model test verileri üzerinden oluşturuldu."
   ]
  },
  {
   "cell_type": "code",
   "execution_count": 18,
   "metadata": {},
   "outputs": [
    {
     "data": {
      "text/plain": [
       "array([-2.03049935e+00,  9.76161878e+00, -1.65614092e+01, -5.54317500e+00,\n",
       "        5.22419006e+00,  4.14452934e+00, -1.13319398e+01, -1.16175385e-01,\n",
       "       -3.99883908e-01,  2.94397685e+00,  2.26755267e+00,  3.28021123e-01,\n",
       "       -1.08412588e+00,  2.83701826e-02,  9.02700772e-02,  1.79822396e+00,\n",
       "        4.81237518e+01, -3.10856340e+01,  4.13473782e+01])"
      ]
     },
     "execution_count": 18,
     "metadata": {},
     "output_type": "execute_result"
    }
   ],
   "source": [
    "enet_model.coef_"
   ]
  },
  {
   "cell_type": "code",
   "execution_count": 19,
   "metadata": {},
   "outputs": [
    {
     "data": {
      "text/plain": [
       "92.11631586588328"
      ]
     },
     "execution_count": 19,
     "metadata": {},
     "output_type": "execute_result"
    }
   ],
   "source": [
    "enet_model.intercept_"
   ]
  },
  {
   "cell_type": "code",
   "execution_count": 20,
   "metadata": {},
   "outputs": [],
   "source": [
    "y_test_pred = enet_model.predict(X_test)"
   ]
  },
  {
   "cell_type": "code",
   "execution_count": 22,
   "metadata": {},
   "outputs": [
    {
     "data": {
      "text/plain": [
       "373.6203977175176"
      ]
     },
     "execution_count": 22,
     "metadata": {},
     "output_type": "execute_result"
    }
   ],
   "source": [
    "np.sqrt(mean_squared_error(y_test, y_test_pred))  #RMSE hatası"
   ]
  },
  {
   "cell_type": "code",
   "execution_count": 26,
   "metadata": {},
   "outputs": [
    {
     "data": {
      "text/plain": [
       "0.3760059144280571"
      ]
     },
     "execution_count": 26,
     "metadata": {},
     "output_type": "execute_result"
    }
   ],
   "source": [
    "#r2 score açıklanabilirlik\n",
    "r2_score(y_test, y_test_pred)"
   ]
  },
  {
   "cell_type": "markdown",
   "metadata": {},
   "source": [
    "### Model Tuning"
   ]
  },
  {
   "cell_type": "code",
   "execution_count": 27,
   "metadata": {},
   "outputs": [],
   "source": [
    "lamdalar = 10*np.linspace(10, -2, 10)*0.5"
   ]
  },
  {
   "cell_type": "code",
   "execution_count": 36,
   "metadata": {
    "collapsed": true,
    "jupyter": {
     "outputs_hidden": true
    }
   },
   "outputs": [
    {
     "name": "stderr",
     "output_type": "stream",
     "text": [
      "C:\\Users\\Mutlu\\anaconda3\\lib\\site-packages\\sklearn\\linear_model\\_coordinate_descent.py:472: ConvergenceWarning: Objective did not converge. You might want to increase the number of iterations. Duality gap: 898952.3022686343, tolerance: 525.9612201701586\n",
      "  tol, rng, random, positive)\n",
      "C:\\Users\\Mutlu\\anaconda3\\lib\\site-packages\\sklearn\\linear_model\\_coordinate_descent.py:472: ConvergenceWarning: Objective did not converge. You might want to increase the number of iterations. Duality gap: 703382.3018641747, tolerance: 525.9612201701586\n",
      "  tol, rng, random, positive)\n",
      "C:\\Users\\Mutlu\\anaconda3\\lib\\site-packages\\sklearn\\linear_model\\_coordinate_descent.py:472: ConvergenceWarning: Objective did not converge. You might want to increase the number of iterations. Duality gap: 56884.9676967815, tolerance: 525.9612201701586\n",
      "  tol, rng, random, positive)\n",
      "C:\\Users\\Mutlu\\anaconda3\\lib\\site-packages\\sklearn\\linear_model\\_coordinate_descent.py:472: ConvergenceWarning: Objective did not converge. You might want to increase the number of iterations. Duality gap: 187169.23545091192, tolerance: 525.9612201701586\n",
      "  tol, rng, random, positive)\n",
      "C:\\Users\\Mutlu\\anaconda3\\lib\\site-packages\\sklearn\\linear_model\\_coordinate_descent.py:472: ConvergenceWarning: Objective did not converge. You might want to increase the number of iterations. Duality gap: 371792.83140977565, tolerance: 525.9612201701586\n",
      "  tol, rng, random, positive)\n",
      "C:\\Users\\Mutlu\\anaconda3\\lib\\site-packages\\sklearn\\linear_model\\_coordinate_descent.py:472: ConvergenceWarning: Objective did not converge. You might want to increase the number of iterations. Duality gap: 525289.050275709, tolerance: 525.9612201701586\n",
      "  tol, rng, random, positive)\n",
      "C:\\Users\\Mutlu\\anaconda3\\lib\\site-packages\\sklearn\\linear_model\\_coordinate_descent.py:472: ConvergenceWarning: Objective did not converge. You might want to increase the number of iterations. Duality gap: 706712.5791184027, tolerance: 525.9612201701586\n",
      "  tol, rng, random, positive)\n",
      "C:\\Users\\Mutlu\\anaconda3\\lib\\site-packages\\sklearn\\linear_model\\_coordinate_descent.py:472: ConvergenceWarning: Objective did not converge. You might want to increase the number of iterations. Duality gap: 841457.5138865816, tolerance: 525.9612201701586\n",
      "  tol, rng, random, positive)\n",
      "C:\\Users\\Mutlu\\anaconda3\\lib\\site-packages\\sklearn\\linear_model\\_coordinate_descent.py:472: ConvergenceWarning: Objective did not converge. You might want to increase the number of iterations. Duality gap: 922827.9491732595, tolerance: 525.9612201701586\n",
      "  tol, rng, random, positive)\n",
      "C:\\Users\\Mutlu\\anaconda3\\lib\\site-packages\\sklearn\\linear_model\\_coordinate_descent.py:472: ConvergenceWarning: Objective did not converge. You might want to increase the number of iterations. Duality gap: 1466591.352937094, tolerance: 830.4728629179655\n",
      "  tol, rng, random, positive)\n",
      "C:\\Users\\Mutlu\\anaconda3\\lib\\site-packages\\sklearn\\linear_model\\_coordinate_descent.py:472: ConvergenceWarning: Objective did not converge. You might want to increase the number of iterations. Duality gap: 999838.4753852952, tolerance: 830.4728629179655\n",
      "  tol, rng, random, positive)\n",
      "C:\\Users\\Mutlu\\anaconda3\\lib\\site-packages\\sklearn\\linear_model\\_coordinate_descent.py:472: ConvergenceWarning: Objective did not converge. You might want to increase the number of iterations. Duality gap: 1345.5773716117255, tolerance: 830.4728629179655\n",
      "  tol, rng, random, positive)\n",
      "C:\\Users\\Mutlu\\anaconda3\\lib\\site-packages\\sklearn\\linear_model\\_coordinate_descent.py:472: ConvergenceWarning: Objective did not converge. You might want to increase the number of iterations. Duality gap: 490572.3781823318, tolerance: 830.4728629179655\n",
      "  tol, rng, random, positive)\n",
      "C:\\Users\\Mutlu\\anaconda3\\lib\\site-packages\\sklearn\\linear_model\\_coordinate_descent.py:472: ConvergenceWarning: Objective did not converge. You might want to increase the number of iterations. Duality gap: 1021350.2526451813, tolerance: 830.4728629179655\n",
      "  tol, rng, random, positive)\n",
      "C:\\Users\\Mutlu\\anaconda3\\lib\\site-packages\\sklearn\\linear_model\\_coordinate_descent.py:472: ConvergenceWarning: Objective did not converge. You might want to increase the number of iterations. Duality gap: 1317123.5260907598, tolerance: 830.4728629179655\n",
      "  tol, rng, random, positive)\n",
      "C:\\Users\\Mutlu\\anaconda3\\lib\\site-packages\\sklearn\\linear_model\\_coordinate_descent.py:472: ConvergenceWarning: Objective did not converge. You might want to increase the number of iterations. Duality gap: 1461385.5023435212, tolerance: 830.4728629179655\n",
      "  tol, rng, random, positive)\n",
      "C:\\Users\\Mutlu\\anaconda3\\lib\\site-packages\\sklearn\\linear_model\\_coordinate_descent.py:472: ConvergenceWarning: Objective did not converge. You might want to increase the number of iterations. Duality gap: 1465858.1248818454, tolerance: 816.215570435207\n",
      "  tol, rng, random, positive)\n",
      "C:\\Users\\Mutlu\\anaconda3\\lib\\site-packages\\sklearn\\linear_model\\_coordinate_descent.py:472: ConvergenceWarning: Objective did not converge. You might want to increase the number of iterations. Duality gap: 713868.7785488213, tolerance: 816.215570435207\n",
      "  tol, rng, random, positive)\n",
      "C:\\Users\\Mutlu\\anaconda3\\lib\\site-packages\\sklearn\\linear_model\\_coordinate_descent.py:472: ConvergenceWarning: Objective did not converge. You might want to increase the number of iterations. Duality gap: 1831.9649650952779, tolerance: 816.215570435207\n",
      "  tol, rng, random, positive)\n",
      "C:\\Users\\Mutlu\\anaconda3\\lib\\site-packages\\sklearn\\linear_model\\_coordinate_descent.py:472: ConvergenceWarning: Objective did not converge. You might want to increase the number of iterations. Duality gap: 15611.369743536692, tolerance: 816.215570435207\n",
      "  tol, rng, random, positive)\n",
      "C:\\Users\\Mutlu\\anaconda3\\lib\\site-packages\\sklearn\\linear_model\\_coordinate_descent.py:472: ConvergenceWarning: Objective did not converge. You might want to increase the number of iterations. Duality gap: 458893.45757516124, tolerance: 816.215570435207\n",
      "  tol, rng, random, positive)\n",
      "C:\\Users\\Mutlu\\anaconda3\\lib\\site-packages\\sklearn\\linear_model\\_coordinate_descent.py:472: ConvergenceWarning: Objective did not converge. You might want to increase the number of iterations. Duality gap: 921082.5896641078, tolerance: 816.215570435207\n",
      "  tol, rng, random, positive)\n",
      "C:\\Users\\Mutlu\\anaconda3\\lib\\site-packages\\sklearn\\linear_model\\_coordinate_descent.py:472: ConvergenceWarning: Objective did not converge. You might want to increase the number of iterations. Duality gap: 1227234.5355890368, tolerance: 816.215570435207\n",
      "  tol, rng, random, positive)\n",
      "C:\\Users\\Mutlu\\anaconda3\\lib\\site-packages\\sklearn\\linear_model\\_coordinate_descent.py:472: ConvergenceWarning: Objective did not converge. You might want to increase the number of iterations. Duality gap: 1376087.2757883845, tolerance: 816.215570435207\n",
      "  tol, rng, random, positive)\n",
      "C:\\Users\\Mutlu\\anaconda3\\lib\\site-packages\\sklearn\\linear_model\\_coordinate_descent.py:472: ConvergenceWarning: Objective did not converge. You might want to increase the number of iterations. Duality gap: 1339942.5114036351, tolerance: 816.215570435207\n",
      "  tol, rng, random, positive)\n",
      "C:\\Users\\Mutlu\\anaconda3\\lib\\site-packages\\sklearn\\linear_model\\_coordinate_descent.py:472: ConvergenceWarning: Objective did not converge. You might want to increase the number of iterations. Duality gap: 1481556.8494436808, tolerance: 790.3639228596569\n",
      "  tol, rng, random, positive)\n",
      "C:\\Users\\Mutlu\\anaconda3\\lib\\site-packages\\sklearn\\linear_model\\_coordinate_descent.py:472: ConvergenceWarning: Objective did not converge. You might want to increase the number of iterations. Duality gap: 1095713.108880857, tolerance: 790.3639228596569\n",
      "  tol, rng, random, positive)\n",
      "C:\\Users\\Mutlu\\anaconda3\\lib\\site-packages\\sklearn\\linear_model\\_coordinate_descent.py:472: ConvergenceWarning: Objective did not converge. You might want to increase the number of iterations. Duality gap: 560040.4628094558, tolerance: 790.3639228596569\n",
      "  tol, rng, random, positive)\n",
      "C:\\Users\\Mutlu\\anaconda3\\lib\\site-packages\\sklearn\\linear_model\\_coordinate_descent.py:472: ConvergenceWarning: Objective did not converge. You might want to increase the number of iterations. Duality gap: 786242.8929128849, tolerance: 790.3639228596569\n",
      "  tol, rng, random, positive)\n",
      "C:\\Users\\Mutlu\\anaconda3\\lib\\site-packages\\sklearn\\linear_model\\_coordinate_descent.py:472: ConvergenceWarning: Objective did not converge. You might want to increase the number of iterations. Duality gap: 990854.8251361728, tolerance: 790.3639228596569\n",
      "  tol, rng, random, positive)\n",
      "C:\\Users\\Mutlu\\anaconda3\\lib\\site-packages\\sklearn\\linear_model\\_coordinate_descent.py:472: ConvergenceWarning: Objective did not converge. You might want to increase the number of iterations. Duality gap: 1244736.9356219277, tolerance: 790.3639228596569\n",
      "  tol, rng, random, positive)\n",
      "C:\\Users\\Mutlu\\anaconda3\\lib\\site-packages\\sklearn\\linear_model\\_coordinate_descent.py:472: ConvergenceWarning: Objective did not converge. You might want to increase the number of iterations. Duality gap: 1344217.1297802273, tolerance: 790.3639228596569\n",
      "  tol, rng, random, positive)\n",
      "C:\\Users\\Mutlu\\anaconda3\\lib\\site-packages\\sklearn\\linear_model\\_coordinate_descent.py:472: ConvergenceWarning: Objective did not converge. You might want to increase the number of iterations. Duality gap: 1366370.970841716, tolerance: 790.3639228596569\n",
      "  tol, rng, random, positive)\n",
      "C:\\Users\\Mutlu\\anaconda3\\lib\\site-packages\\sklearn\\linear_model\\_coordinate_descent.py:472: ConvergenceWarning: Objective did not converge. You might want to increase the number of iterations. Duality gap: 1395700.7788157456, tolerance: 790.3639228596569\n",
      "  tol, rng, random, positive)\n",
      "C:\\Users\\Mutlu\\anaconda3\\lib\\site-packages\\sklearn\\linear_model\\_coordinate_descent.py:472: ConvergenceWarning: Objective did not converge. You might want to increase the number of iterations. Duality gap: 1559824.5677730415, tolerance: 810.1160924286224\n",
      "  tol, rng, random, positive)\n",
      "C:\\Users\\Mutlu\\anaconda3\\lib\\site-packages\\sklearn\\linear_model\\_coordinate_descent.py:472: ConvergenceWarning: Objective did not converge. You might want to increase the number of iterations. Duality gap: 1209129.4856796553, tolerance: 810.1160924286224\n",
      "  tol, rng, random, positive)\n",
      "C:\\Users\\Mutlu\\anaconda3\\lib\\site-packages\\sklearn\\linear_model\\_coordinate_descent.py:472: ConvergenceWarning: Objective did not converge. You might want to increase the number of iterations. Duality gap: 916169.0651057671, tolerance: 810.1160924286224\n",
      "  tol, rng, random, positive)\n",
      "C:\\Users\\Mutlu\\anaconda3\\lib\\site-packages\\sklearn\\linear_model\\_coordinate_descent.py:472: ConvergenceWarning: Objective did not converge. You might want to increase the number of iterations. Duality gap: 1061750.3841395618, tolerance: 810.1160924286224\n",
      "  tol, rng, random, positive)\n",
      "C:\\Users\\Mutlu\\anaconda3\\lib\\site-packages\\sklearn\\linear_model\\_coordinate_descent.py:472: ConvergenceWarning: Objective did not converge. You might want to increase the number of iterations. Duality gap: 1225993.1284613982, tolerance: 810.1160924286224\n",
      "  tol, rng, random, positive)\n",
      "C:\\Users\\Mutlu\\anaconda3\\lib\\site-packages\\sklearn\\linear_model\\_coordinate_descent.py:472: ConvergenceWarning: Objective did not converge. You might want to increase the number of iterations. Duality gap: 1336918.1619433223, tolerance: 810.1160924286224\n",
      "  tol, rng, random, positive)\n",
      "C:\\Users\\Mutlu\\anaconda3\\lib\\site-packages\\sklearn\\linear_model\\_coordinate_descent.py:472: ConvergenceWarning: Objective did not converge. You might want to increase the number of iterations. Duality gap: 1399512.9293254577, tolerance: 810.1160924286224\n",
      "  tol, rng, random, positive)\n",
      "C:\\Users\\Mutlu\\anaconda3\\lib\\site-packages\\sklearn\\linear_model\\_coordinate_descent.py:472: ConvergenceWarning: Objective did not converge. You might want to increase the number of iterations. Duality gap: 1382240.7134467005, tolerance: 810.1160924286224\n",
      "  tol, rng, random, positive)\n",
      "C:\\Users\\Mutlu\\anaconda3\\lib\\site-packages\\sklearn\\linear_model\\_coordinate_descent.py:472: ConvergenceWarning: Objective did not converge. You might want to increase the number of iterations. Duality gap: 1190131.9237336419, tolerance: 810.1160924286224\n",
      "  tol, rng, random, positive)\n",
      "C:\\Users\\Mutlu\\anaconda3\\lib\\site-packages\\sklearn\\linear_model\\_coordinate_descent.py:472: ConvergenceWarning: Objective did not converge. You might want to increase the number of iterations. Duality gap: 1432116.3035777279, tolerance: 777.602234254573\n",
      "  tol, rng, random, positive)\n",
      "C:\\Users\\Mutlu\\anaconda3\\lib\\site-packages\\sklearn\\linear_model\\_coordinate_descent.py:472: ConvergenceWarning: Objective did not converge. You might want to increase the number of iterations. Duality gap: 42164.68899915647, tolerance: 777.602234254573\n",
      "  tol, rng, random, positive)\n",
      "C:\\Users\\Mutlu\\anaconda3\\lib\\site-packages\\sklearn\\linear_model\\_coordinate_descent.py:472: ConvergenceWarning: Objective did not converge. You might want to increase the number of iterations. Duality gap: 15357.500903475098, tolerance: 777.602234254573\n",
      "  tol, rng, random, positive)\n",
      "C:\\Users\\Mutlu\\anaconda3\\lib\\site-packages\\sklearn\\linear_model\\_coordinate_descent.py:472: ConvergenceWarning: Objective did not converge. You might want to increase the number of iterations. Duality gap: 30720.00008521648, tolerance: 777.602234254573\n",
      "  tol, rng, random, positive)\n",
      "C:\\Users\\Mutlu\\anaconda3\\lib\\site-packages\\sklearn\\linear_model\\_coordinate_descent.py:472: ConvergenceWarning: Objective did not converge. You might want to increase the number of iterations. Duality gap: 105187.94642428588, tolerance: 777.602234254573\n",
      "  tol, rng, random, positive)\n",
      "C:\\Users\\Mutlu\\anaconda3\\lib\\site-packages\\sklearn\\linear_model\\_coordinate_descent.py:472: ConvergenceWarning: Objective did not converge. You might want to increase the number of iterations. Duality gap: 716476.9482257921, tolerance: 777.602234254573\n",
      "  tol, rng, random, positive)\n",
      "C:\\Users\\Mutlu\\anaconda3\\lib\\site-packages\\sklearn\\linear_model\\_coordinate_descent.py:472: ConvergenceWarning: Objective did not converge. You might want to increase the number of iterations. Duality gap: 1190262.3765460176, tolerance: 777.602234254573\n",
      "  tol, rng, random, positive)\n",
      "C:\\Users\\Mutlu\\anaconda3\\lib\\site-packages\\sklearn\\linear_model\\_coordinate_descent.py:472: ConvergenceWarning: Objective did not converge. You might want to increase the number of iterations. Duality gap: 1381782.740260359, tolerance: 777.602234254573\n",
      "  tol, rng, random, positive)\n",
      "C:\\Users\\Mutlu\\anaconda3\\lib\\site-packages\\sklearn\\linear_model\\_coordinate_descent.py:472: ConvergenceWarning: Objective did not converge. You might want to increase the number of iterations. Duality gap: 1545852.130920404, tolerance: 777.602234254573\n",
      "  tol, rng, random, positive)\n",
      "C:\\Users\\Mutlu\\anaconda3\\lib\\site-packages\\sklearn\\linear_model\\_coordinate_descent.py:472: ConvergenceWarning: Objective did not converge. You might want to increase the number of iterations. Duality gap: 1622110.1703397261, tolerance: 821.9752456952508\n",
      "  tol, rng, random, positive)\n",
      "C:\\Users\\Mutlu\\anaconda3\\lib\\site-packages\\sklearn\\linear_model\\_coordinate_descent.py:472: ConvergenceWarning: Objective did not converge. You might want to increase the number of iterations. Duality gap: 1193268.6917526992, tolerance: 821.9752456952508\n",
      "  tol, rng, random, positive)\n",
      "C:\\Users\\Mutlu\\anaconda3\\lib\\site-packages\\sklearn\\linear_model\\_coordinate_descent.py:472: ConvergenceWarning: Objective did not converge. You might want to increase the number of iterations. Duality gap: 45408.50559944287, tolerance: 821.9752456952508\n",
      "  tol, rng, random, positive)\n",
      "C:\\Users\\Mutlu\\anaconda3\\lib\\site-packages\\sklearn\\linear_model\\_coordinate_descent.py:472: ConvergenceWarning: Objective did not converge. You might want to increase the number of iterations. Duality gap: 118376.42319399072, tolerance: 821.9752456952508\n",
      "  tol, rng, random, positive)\n",
      "C:\\Users\\Mutlu\\anaconda3\\lib\\site-packages\\sklearn\\linear_model\\_coordinate_descent.py:472: ConvergenceWarning: Objective did not converge. You might want to increase the number of iterations. Duality gap: 237443.95455099433, tolerance: 821.9752456952508\n",
      "  tol, rng, random, positive)\n",
      "C:\\Users\\Mutlu\\anaconda3\\lib\\site-packages\\sklearn\\linear_model\\_coordinate_descent.py:472: ConvergenceWarning: Objective did not converge. You might want to increase the number of iterations. Duality gap: 438214.1527154988, tolerance: 821.9752456952508\n",
      "  tol, rng, random, positive)\n",
      "C:\\Users\\Mutlu\\anaconda3\\lib\\site-packages\\sklearn\\linear_model\\_coordinate_descent.py:472: ConvergenceWarning: Objective did not converge. You might want to increase the number of iterations. Duality gap: 749513.2893347568, tolerance: 821.9752456952508\n",
      "  tol, rng, random, positive)\n",
      "C:\\Users\\Mutlu\\anaconda3\\lib\\site-packages\\sklearn\\linear_model\\_coordinate_descent.py:472: ConvergenceWarning: Objective did not converge. You might want to increase the number of iterations. Duality gap: 1232035.9055586897, tolerance: 821.9752456952508\n",
      "  tol, rng, random, positive)\n",
      "C:\\Users\\Mutlu\\anaconda3\\lib\\site-packages\\sklearn\\linear_model\\_coordinate_descent.py:472: ConvergenceWarning: Objective did not converge. You might want to increase the number of iterations. Duality gap: 1546991.3237466053, tolerance: 821.9752456952508\n",
      "  tol, rng, random, positive)\n",
      "C:\\Users\\Mutlu\\anaconda3\\lib\\site-packages\\sklearn\\linear_model\\_coordinate_descent.py:472: ConvergenceWarning: Objective did not converge. You might want to increase the number of iterations. Duality gap: 1423763.6516370226, tolerance: 788.9790713535391\n",
      "  tol, rng, random, positive)\n",
      "C:\\Users\\Mutlu\\anaconda3\\lib\\site-packages\\sklearn\\linear_model\\_coordinate_descent.py:472: ConvergenceWarning: Objective did not converge. You might want to increase the number of iterations. Duality gap: 955391.3752093858, tolerance: 788.9790713535391\n",
      "  tol, rng, random, positive)\n",
      "C:\\Users\\Mutlu\\anaconda3\\lib\\site-packages\\sklearn\\linear_model\\_coordinate_descent.py:472: ConvergenceWarning: Objective did not converge. You might want to increase the number of iterations. Duality gap: 10685.675829184242, tolerance: 788.9790713535391\n",
      "  tol, rng, random, positive)\n",
      "C:\\Users\\Mutlu\\anaconda3\\lib\\site-packages\\sklearn\\linear_model\\_coordinate_descent.py:472: ConvergenceWarning: Objective did not converge. You might want to increase the number of iterations. Duality gap: 27133.40430407226, tolerance: 788.9790713535391\n",
      "  tol, rng, random, positive)\n",
      "C:\\Users\\Mutlu\\anaconda3\\lib\\site-packages\\sklearn\\linear_model\\_coordinate_descent.py:472: ConvergenceWarning: Objective did not converge. You might want to increase the number of iterations. Duality gap: 73690.80329441652, tolerance: 788.9790713535391\n",
      "  tol, rng, random, positive)\n",
      "C:\\Users\\Mutlu\\anaconda3\\lib\\site-packages\\sklearn\\linear_model\\_coordinate_descent.py:472: ConvergenceWarning: Objective did not converge. You might want to increase the number of iterations. Duality gap: 612258.9282096693, tolerance: 788.9790713535391\n",
      "  tol, rng, random, positive)\n",
      "C:\\Users\\Mutlu\\anaconda3\\lib\\site-packages\\sklearn\\linear_model\\_coordinate_descent.py:472: ConvergenceWarning: Objective did not converge. You might want to increase the number of iterations. Duality gap: 1154727.5394561794, tolerance: 788.9790713535391\n",
      "  tol, rng, random, positive)\n",
      "C:\\Users\\Mutlu\\anaconda3\\lib\\site-packages\\sklearn\\linear_model\\_coordinate_descent.py:472: ConvergenceWarning: Objective did not converge. You might want to increase the number of iterations. Duality gap: 1356165.571765601, tolerance: 788.9790713535391\n",
      "  tol, rng, random, positive)\n",
      "C:\\Users\\Mutlu\\anaconda3\\lib\\site-packages\\sklearn\\linear_model\\_coordinate_descent.py:472: ConvergenceWarning: Objective did not converge. You might want to increase the number of iterations. Duality gap: 1234167.1161243597, tolerance: 788.9790713535391\n",
      "  tol, rng, random, positive)\n",
      "C:\\Users\\Mutlu\\anaconda3\\lib\\site-packages\\sklearn\\linear_model\\_coordinate_descent.py:472: ConvergenceWarning: Objective did not converge. You might want to increase the number of iterations. Duality gap: 1504737.6842467987, tolerance: 819.4650443138951\n",
      "  tol, rng, random, positive)\n",
      "C:\\Users\\Mutlu\\anaconda3\\lib\\site-packages\\sklearn\\linear_model\\_coordinate_descent.py:472: ConvergenceWarning: Objective did not converge. You might want to increase the number of iterations. Duality gap: 420936.34117198037, tolerance: 819.4650443138951\n",
      "  tol, rng, random, positive)\n",
      "C:\\Users\\Mutlu\\anaconda3\\lib\\site-packages\\sklearn\\linear_model\\_coordinate_descent.py:472: ConvergenceWarning: Objective did not converge. You might want to increase the number of iterations. Duality gap: 10790.922438665293, tolerance: 819.4650443138951\n",
      "  tol, rng, random, positive)\n",
      "C:\\Users\\Mutlu\\anaconda3\\lib\\site-packages\\sklearn\\linear_model\\_coordinate_descent.py:472: ConvergenceWarning: Objective did not converge. You might want to increase the number of iterations. Duality gap: 275747.05592195573, tolerance: 819.4650443138951\n",
      "  tol, rng, random, positive)\n",
      "C:\\Users\\Mutlu\\anaconda3\\lib\\site-packages\\sklearn\\linear_model\\_coordinate_descent.py:472: ConvergenceWarning: Objective did not converge. You might want to increase the number of iterations. Duality gap: 863057.2095073691, tolerance: 819.4650443138951\n",
      "  tol, rng, random, positive)\n",
      "C:\\Users\\Mutlu\\anaconda3\\lib\\site-packages\\sklearn\\linear_model\\_coordinate_descent.py:472: ConvergenceWarning: Objective did not converge. You might want to increase the number of iterations. Duality gap: 1257189.950923413, tolerance: 819.4650443138951\n",
      "  tol, rng, random, positive)\n",
      "C:\\Users\\Mutlu\\anaconda3\\lib\\site-packages\\sklearn\\linear_model\\_coordinate_descent.py:472: ConvergenceWarning: Objective did not converge. You might want to increase the number of iterations. Duality gap: 1450535.1571510646, tolerance: 819.4650443138951\n",
      "  tol, rng, random, positive)\n",
      "C:\\Users\\Mutlu\\anaconda3\\lib\\site-packages\\sklearn\\linear_model\\_coordinate_descent.py:472: ConvergenceWarning: Objective did not converge. You might want to increase the number of iterations. Duality gap: 1505446.6295412197, tolerance: 819.4650443138951\n",
      "  tol, rng, random, positive)\n",
      "C:\\Users\\Mutlu\\anaconda3\\lib\\site-packages\\sklearn\\linear_model\\_coordinate_descent.py:472: ConvergenceWarning: Objective did not converge. You might want to increase the number of iterations. Duality gap: 1391036.7060192102, tolerance: 795.5895982459796\n",
      "  tol, rng, random, positive)\n",
      "C:\\Users\\Mutlu\\anaconda3\\lib\\site-packages\\sklearn\\linear_model\\_coordinate_descent.py:472: ConvergenceWarning: Objective did not converge. You might want to increase the number of iterations. Duality gap: 858215.2288745375, tolerance: 795.5895982459796\n",
      "  tol, rng, random, positive)\n",
      "C:\\Users\\Mutlu\\anaconda3\\lib\\site-packages\\sklearn\\linear_model\\_coordinate_descent.py:472: ConvergenceWarning: Objective did not converge. You might want to increase the number of iterations. Duality gap: 988.3114491938613, tolerance: 795.5895982459796\n",
      "  tol, rng, random, positive)\n",
      "C:\\Users\\Mutlu\\anaconda3\\lib\\site-packages\\sklearn\\linear_model\\_coordinate_descent.py:472: ConvergenceWarning: Objective did not converge. You might want to increase the number of iterations. Duality gap: 3270.3974295225926, tolerance: 795.5895982459796\n",
      "  tol, rng, random, positive)\n",
      "C:\\Users\\Mutlu\\anaconda3\\lib\\site-packages\\sklearn\\linear_model\\_coordinate_descent.py:472: ConvergenceWarning: Objective did not converge. You might want to increase the number of iterations. Duality gap: 420148.4796415197, tolerance: 795.5895982459796\n",
      "  tol, rng, random, positive)\n",
      "C:\\Users\\Mutlu\\anaconda3\\lib\\site-packages\\sklearn\\linear_model\\_coordinate_descent.py:472: ConvergenceWarning: Objective did not converge. You might want to increase the number of iterations. Duality gap: 856954.0407904548, tolerance: 795.5895982459796\n",
      "  tol, rng, random, positive)\n",
      "C:\\Users\\Mutlu\\anaconda3\\lib\\site-packages\\sklearn\\linear_model\\_coordinate_descent.py:472: ConvergenceWarning: Objective did not converge. You might want to increase the number of iterations. Duality gap: 1164325.6422895181, tolerance: 795.5895982459796\n",
      "  tol, rng, random, positive)\n",
      "C:\\Users\\Mutlu\\anaconda3\\lib\\site-packages\\sklearn\\linear_model\\_coordinate_descent.py:472: ConvergenceWarning: Objective did not converge. You might want to increase the number of iterations. Duality gap: 1296985.1564514583, tolerance: 795.5895982459796\n",
      "  tol, rng, random, positive)\n",
      "C:\\Users\\Mutlu\\anaconda3\\lib\\site-packages\\sklearn\\linear_model\\_coordinate_descent.py:472: ConvergenceWarning: Objective did not converge. You might want to increase the number of iterations. Duality gap: 1129653.9709177501, tolerance: 795.5895982459796\n",
      "  tol, rng, random, positive)\n",
      "C:\\Users\\Mutlu\\anaconda3\\lib\\site-packages\\sklearn\\linear_model\\_coordinate_descent.py:476: ConvergenceWarning: Objective did not converge. You might want to increase the number of iterations. Duality gap: 1629044.576489061, tolerance: 866.4061181073539\n",
      "  positive)\n"
     ]
    }
   ],
   "source": [
    "enet_model = ElasticNetCV(alphas = lamdalar,  cv = 10).fit(X_train, y_train)\n",
    "#cross validation 10 katlı. lamdalar listesinnin içerisinden en uygun alpha değeri seçilmesi"
   ]
  },
  {
   "cell_type": "code",
   "execution_count": 33,
   "metadata": {},
   "outputs": [
    {
     "data": {
      "text/plain": [
       "50.0"
      ]
     },
     "execution_count": 33,
     "metadata": {},
     "output_type": "execute_result"
    }
   ],
   "source": [
    "enet_model.alpha_"
   ]
  },
  {
   "cell_type": "code",
   "execution_count": 34,
   "metadata": {},
   "outputs": [
    {
     "data": {
      "text/plain": [
       "array([-0.98778859,  5.8382303 , -3.05187387, -2.44599695,  0.38652773,\n",
       "        2.66783035,  0.        , -0.30527029, -0.0201198 ,  0.11792298,\n",
       "        2.02540048,  1.44966429, -0.80676275,  0.04958727,  0.27523164,\n",
       "        0.09987512,  0.46794675, -0.22838272,  0.25219594])"
      ]
     },
     "execution_count": 34,
     "metadata": {},
     "output_type": "execute_result"
    }
   ],
   "source": [
    "enet_model.coef_"
   ]
  },
  {
   "cell_type": "code",
   "execution_count": 39,
   "metadata": {},
   "outputs": [],
   "source": [
    "y_pred = enet_model.predict(X_test)"
   ]
  },
  {
   "cell_type": "code",
   "execution_count": 40,
   "metadata": {},
   "outputs": [
    {
     "data": {
      "text/plain": [
       "357.9060985940664"
      ]
     },
     "execution_count": 40,
     "metadata": {},
     "output_type": "execute_result"
    }
   ],
   "source": [
    "np.sqrt(mean_squared_error(y_test, y_pred))"
   ]
  },
  {
   "cell_type": "code",
   "execution_count": 46,
   "metadata": {
    "collapsed": true,
    "jupyter": {
     "outputs_hidden": true
    }
   },
   "outputs": [
    {
     "data": {
      "text/plain": [
       "\u001b[1;31mInit signature:\u001b[0m\n",
       "\u001b[0mElasticNet\u001b[0m\u001b[1;33m(\u001b[0m\u001b[1;33m\n",
       "\u001b[0m    \u001b[0malpha\u001b[0m\u001b[1;33m=\u001b[0m\u001b[1;36m1.0\u001b[0m\u001b[1;33m,\u001b[0m\u001b[1;33m\n",
       "\u001b[0m    \u001b[0ml1_ratio\u001b[0m\u001b[1;33m=\u001b[0m\u001b[1;36m0.5\u001b[0m\u001b[1;33m,\u001b[0m\u001b[1;33m\n",
       "\u001b[0m    \u001b[0mfit_intercept\u001b[0m\u001b[1;33m=\u001b[0m\u001b[1;32mTrue\u001b[0m\u001b[1;33m,\u001b[0m\u001b[1;33m\n",
       "\u001b[0m    \u001b[0mnormalize\u001b[0m\u001b[1;33m=\u001b[0m\u001b[1;32mFalse\u001b[0m\u001b[1;33m,\u001b[0m\u001b[1;33m\n",
       "\u001b[0m    \u001b[0mprecompute\u001b[0m\u001b[1;33m=\u001b[0m\u001b[1;32mFalse\u001b[0m\u001b[1;33m,\u001b[0m\u001b[1;33m\n",
       "\u001b[0m    \u001b[0mmax_iter\u001b[0m\u001b[1;33m=\u001b[0m\u001b[1;36m1000\u001b[0m\u001b[1;33m,\u001b[0m\u001b[1;33m\n",
       "\u001b[0m    \u001b[0mcopy_X\u001b[0m\u001b[1;33m=\u001b[0m\u001b[1;32mTrue\u001b[0m\u001b[1;33m,\u001b[0m\u001b[1;33m\n",
       "\u001b[0m    \u001b[0mtol\u001b[0m\u001b[1;33m=\u001b[0m\u001b[1;36m0.0001\u001b[0m\u001b[1;33m,\u001b[0m\u001b[1;33m\n",
       "\u001b[0m    \u001b[0mwarm_start\u001b[0m\u001b[1;33m=\u001b[0m\u001b[1;32mFalse\u001b[0m\u001b[1;33m,\u001b[0m\u001b[1;33m\n",
       "\u001b[0m    \u001b[0mpositive\u001b[0m\u001b[1;33m=\u001b[0m\u001b[1;32mFalse\u001b[0m\u001b[1;33m,\u001b[0m\u001b[1;33m\n",
       "\u001b[0m    \u001b[0mrandom_state\u001b[0m\u001b[1;33m=\u001b[0m\u001b[1;32mNone\u001b[0m\u001b[1;33m,\u001b[0m\u001b[1;33m\n",
       "\u001b[0m    \u001b[0mselection\u001b[0m\u001b[1;33m=\u001b[0m\u001b[1;34m'cyclic'\u001b[0m\u001b[1;33m,\u001b[0m\u001b[1;33m\n",
       "\u001b[0m\u001b[1;33m)\u001b[0m\u001b[1;33m\u001b[0m\u001b[1;33m\u001b[0m\u001b[0m\n",
       "\u001b[1;31mDocstring:\u001b[0m     \n",
       "Linear regression with combined L1 and L2 priors as regularizer.\n",
       "\n",
       "Minimizes the objective function::\n",
       "\n",
       "        1 / (2 * n_samples) * ||y - Xw||^2_2\n",
       "        + alpha * l1_ratio * ||w||_1\n",
       "        + 0.5 * alpha * (1 - l1_ratio) * ||w||^2_2\n",
       "\n",
       "If you are interested in controlling the L1 and L2 penalty\n",
       "separately, keep in mind that this is equivalent to::\n",
       "\n",
       "        a * L1 + b * L2\n",
       "\n",
       "where::\n",
       "\n",
       "        alpha = a + b and l1_ratio = a / (a + b)\n",
       "\n",
       "The parameter l1_ratio corresponds to alpha in the glmnet R package while\n",
       "alpha corresponds to the lambda parameter in glmnet. Specifically, l1_ratio\n",
       "= 1 is the lasso penalty. Currently, l1_ratio <= 0.01 is not reliable,\n",
       "unless you supply your own sequence of alpha.\n",
       "\n",
       "Read more in the :ref:`User Guide <elastic_net>`.\n",
       "\n",
       "Parameters\n",
       "----------\n",
       "alpha : float, optional\n",
       "    Constant that multiplies the penalty terms. Defaults to 1.0.\n",
       "    See the notes for the exact mathematical meaning of this\n",
       "    parameter. ``alpha = 0`` is equivalent to an ordinary least square,\n",
       "    solved by the :class:`LinearRegression` object. For numerical\n",
       "    reasons, using ``alpha = 0`` with the ``Lasso`` object is not advised.\n",
       "    Given this, you should use the :class:`LinearRegression` object.\n",
       "\n",
       "l1_ratio : float\n",
       "    The ElasticNet mixing parameter, with ``0 <= l1_ratio <= 1``. For\n",
       "    ``l1_ratio = 0`` the penalty is an L2 penalty. ``For l1_ratio = 1`` it\n",
       "    is an L1 penalty.  For ``0 < l1_ratio < 1``, the penalty is a\n",
       "    combination of L1 and L2.\n",
       "\n",
       "fit_intercept : bool\n",
       "    Whether the intercept should be estimated or not. If ``False``, the\n",
       "    data is assumed to be already centered.\n",
       "\n",
       "normalize : boolean, optional, default False\n",
       "    This parameter is ignored when ``fit_intercept`` is set to False.\n",
       "    If True, the regressors X will be normalized before regression by\n",
       "    subtracting the mean and dividing by the l2-norm.\n",
       "    If you wish to standardize, please use\n",
       "    :class:`sklearn.preprocessing.StandardScaler` before calling ``fit``\n",
       "    on an estimator with ``normalize=False``.\n",
       "\n",
       "precompute : True | False | array-like\n",
       "    Whether to use a precomputed Gram matrix to speed up\n",
       "    calculations. The Gram matrix can also be passed as argument.\n",
       "    For sparse input this option is always ``True`` to preserve sparsity.\n",
       "\n",
       "max_iter : int, optional\n",
       "    The maximum number of iterations\n",
       "\n",
       "copy_X : boolean, optional, default True\n",
       "    If ``True``, X will be copied; else, it may be overwritten.\n",
       "\n",
       "tol : float, optional\n",
       "    The tolerance for the optimization: if the updates are\n",
       "    smaller than ``tol``, the optimization code checks the\n",
       "    dual gap for optimality and continues until it is smaller\n",
       "    than ``tol``.\n",
       "\n",
       "warm_start : bool, optional\n",
       "    When set to ``True``, reuse the solution of the previous call to fit as\n",
       "    initialization, otherwise, just erase the previous solution.\n",
       "    See :term:`the Glossary <warm_start>`.\n",
       "\n",
       "positive : bool, optional\n",
       "    When set to ``True``, forces the coefficients to be positive.\n",
       "\n",
       "random_state : int, RandomState instance or None, optional, default None\n",
       "    The seed of the pseudo random number generator that selects a random\n",
       "    feature to update.  If int, random_state is the seed used by the random\n",
       "    number generator; If RandomState instance, random_state is the random\n",
       "    number generator; If None, the random number generator is the\n",
       "    RandomState instance used by `np.random`. Used when ``selection`` ==\n",
       "    'random'.\n",
       "\n",
       "selection : str, default 'cyclic'\n",
       "    If set to 'random', a random coefficient is updated every iteration\n",
       "    rather than looping over features sequentially by default. This\n",
       "    (setting to 'random') often leads to significantly faster convergence\n",
       "    especially when tol is higher than 1e-4.\n",
       "\n",
       "Attributes\n",
       "----------\n",
       "coef_ : array, shape (n_features,) | (n_targets, n_features)\n",
       "    parameter vector (w in the cost function formula)\n",
       "\n",
       "sparse_coef_ : scipy.sparse matrix, shape (n_features, 1) |             (n_targets, n_features)\n",
       "    ``sparse_coef_`` is a readonly property derived from ``coef_``\n",
       "\n",
       "intercept_ : float | array, shape (n_targets,)\n",
       "    independent term in decision function.\n",
       "\n",
       "n_iter_ : array-like, shape (n_targets,)\n",
       "    number of iterations run by the coordinate descent solver to reach\n",
       "    the specified tolerance.\n",
       "\n",
       "Examples\n",
       "--------\n",
       ">>> from sklearn.linear_model import ElasticNet\n",
       ">>> from sklearn.datasets import make_regression\n",
       "\n",
       ">>> X, y = make_regression(n_features=2, random_state=0)\n",
       ">>> regr = ElasticNet(random_state=0)\n",
       ">>> regr.fit(X, y)\n",
       "ElasticNet(random_state=0)\n",
       ">>> print(regr.coef_)\n",
       "[18.83816048 64.55968825]\n",
       ">>> print(regr.intercept_)\n",
       "1.451...\n",
       ">>> print(regr.predict([[0, 0]]))\n",
       "[1.451...]\n",
       "\n",
       "\n",
       "Notes\n",
       "-----\n",
       "To avoid unnecessary memory duplication the X argument of the fit method\n",
       "should be directly passed as a Fortran-contiguous numpy array.\n",
       "\n",
       "See also\n",
       "--------\n",
       "ElasticNetCV : Elastic net model with best model selection by\n",
       "    cross-validation.\n",
       "SGDRegressor: implements elastic net regression with incremental training.\n",
       "SGDClassifier: implements logistic regression with elastic net penalty\n",
       "    (``SGDClassifier(loss=\"log\", penalty=\"elasticnet\")``).\n",
       "\u001b[1;31mFile:\u001b[0m           c:\\users\\mutlu\\anaconda3\\lib\\site-packages\\sklearn\\linear_model\\_coordinate_descent.py\n",
       "\u001b[1;31mType:\u001b[0m           ABCMeta\n",
       "\u001b[1;31mSubclasses:\u001b[0m     Lasso\n"
      ]
     },
     "metadata": {},
     "output_type": "display_data"
    }
   ],
   "source": [
    "?ElasticNet\n",
    "#l1_ratio ifadesinin anlamı : eğer değer 0 olursa L2 cezalandırılması, 1 olursa L1 cezalandırılması yapıldığı anlamına gelir.\n",
    "# L1 ve L2 nin göreceli olarak etkilerini ifade etmektedir. İleri seviyede bu etki değiştirilir."
   ]
  },
  {
   "cell_type": "code",
   "execution_count": null,
   "metadata": {},
   "outputs": [],
   "source": []
  },
  {
   "cell_type": "code",
   "execution_count": null,
   "metadata": {},
   "outputs": [],
   "source": []
  }
 ],
 "metadata": {
  "kernelspec": {
   "display_name": "Python 3",
   "language": "python",
   "name": "python3"
  },
  "language_info": {
   "codemirror_mode": {
    "name": "ipython",
    "version": 3
   },
   "file_extension": ".py",
   "mimetype": "text/x-python",
   "name": "python",
   "nbconvert_exporter": "python",
   "pygments_lexer": "ipython3",
   "version": "3.7.6"
  }
 },
 "nbformat": 4,
 "nbformat_minor": 4
}
