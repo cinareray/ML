{
 "cells": [
  {
   "cell_type": "markdown",
   "metadata": {},
   "source": [
    "# MAKİNE ÖĞRENMESİ İŞLEMLERİNİN GENELLEŞTİRİLMESİ"
   ]
  },
  {
   "cell_type": "markdown",
   "metadata": {},
   "source": [
    "* **MAKİNE ALGORİTMALARINI TEK TEK MODEL OLUŞTURUP HATA GÖZLEMLEMELERİ SÜRE KAYBINA YOL AÇACAĞI İÇİN FONKSİYON YAZARAK İSTENİLEN ALGORİTMALARI BİR LİSTE ŞEKLİNE GETİRİP FONKSİYONA GÖNDERİM TEST HATALARINI GÖZLEMLEYEBİLİRİZ. BU SAYEDE TEKRARA DÜŞEN KODLARI BİR FONKSİYON YAZARAK İŞLEM SÜRESİNİ AZALTABİLİRİZ.**"
   ]
  },
  {
   "cell_type": "code",
   "execution_count": 19,
   "metadata": {},
   "outputs": [],
   "source": [
    "import numpy as np\n",
    "import pandas as pd \n",
    "from sklearn.model_selection import train_test_split, GridSearchCV\n",
    "from sklearn.metrics import mean_squared_error, r2_score\n",
    "import matplotlib.pyplot as plt\n",
    "from sklearn.preprocessing import scale \n",
    "from sklearn.preprocessing import StandardScaler\n",
    "from sklearn import model_selection\n",
    "from sklearn.linear_model import LinearRegression\n",
    "from sklearn.tree import DecisionTreeRegressor\n",
    "from sklearn.neighbors import KNeighborsRegressor\n",
    "from sklearn.neural_network import MLPRegressor\n",
    "from sklearn.ensemble import RandomForestRegressor\n",
    "from sklearn.ensemble import GradientBoostingRegressor\n",
    "from sklearn import neighbors\n",
    "from sklearn.svm import SVR\n",
    "from lightgbm import LGBMRegressor\n",
    "from xgboost import XGBRegressor"
   ]
  },
  {
   "cell_type": "code",
   "execution_count": 20,
   "metadata": {},
   "outputs": [],
   "source": [
    "df = pd.read_csv(\"beyzbol_veri.csv\")\n",
    "df = df.dropna()\n",
    "dms = pd.get_dummies(df[['League', 'Division', 'NewLeague']])"
   ]
  },
  {
   "cell_type": "code",
   "execution_count": 21,
   "metadata": {},
   "outputs": [],
   "source": [
    "def compML(df, y, alg):\n",
    "    #train-test ayrimi\n",
    "    y = df[y]\n",
    "    X_ = df.drop(['Salary', 'League', 'Division', 'NewLeague'], axis=1).astype('float64')\n",
    "    X = pd.concat([X_, dms[['League_N', 'Division_W', 'NewLeague_N']]], axis=1)\n",
    "    X_train, X_test, y_train, y_test = train_test_split(X,y,test_size=0.25,random_state=42)\n",
    "    #modelleme\n",
    "    model = alg().fit(X_train, y_train)\n",
    "    y_pred = model.predict(X_test)\n",
    "    RMSE = np.sqrt(mean_squared_error(y_test, y_pred))\n",
    "    model_ismi = alg.__name__\n",
    "    print(model_ismi, \"Modeli Test Hatası:\",RMSE)"
   ]
  },
  {
   "cell_type": "code",
   "execution_count": 22,
   "metadata": {},
   "outputs": [
    {
     "name": "stdout",
     "output_type": "stream",
     "text": [
      "SVR Modeli Test Hatası: 460.0032657244849\n"
     ]
    }
   ],
   "source": [
    "compML(df, \"Salary\", SVR)"
   ]
  },
  {
   "cell_type": "code",
   "execution_count": 23,
   "metadata": {},
   "outputs": [],
   "source": [
    "models = [LGBMRegressor, \n",
    "          XGBRegressor, \n",
    "          GradientBoostingRegressor, \n",
    "          RandomForestRegressor, \n",
    "          DecisionTreeRegressor,\n",
    "          MLPRegressor,\n",
    "          KNeighborsRegressor, \n",
    "          SVR]"
   ]
  },
  {
   "cell_type": "code",
   "execution_count": 24,
   "metadata": {},
   "outputs": [
    {
     "name": "stdout",
     "output_type": "stream",
     "text": [
      "LGBMRegressor Modeli Test Hatası: 363.8712087611089\n",
      "XGBRegressor Modeli Test Hatası: 355.4651481224188\n",
      "GradientBoostingRegressor Modeli Test Hatası: 361.27678880332434\n",
      "RandomForestRegressor Modeli Test Hatası: 345.8408777556565\n",
      "DecisionTreeRegressor Modeli Test Hatası: 475.8972491036847\n",
      "MLPRegressor Modeli Test Hatası: 370.24557175233883\n",
      "KNeighborsRegressor Modeli Test Hatası: 426.6570764525201\n",
      "SVR Modeli Test Hatası: 460.0032657244849\n"
     ]
    },
    {
     "name": "stderr",
     "output_type": "stream",
     "text": [
      "C:\\Users\\Mutlu\\anaconda3\\lib\\site-packages\\sklearn\\neural_network\\_multilayer_perceptron.py:571: ConvergenceWarning: Stochastic Optimizer: Maximum iterations (200) reached and the optimization hasn't converged yet.\n",
      "  % self.max_iter, ConvergenceWarning)\n"
     ]
    }
   ],
   "source": [
    "for i in models:\n",
    "    compML(df, \"Salary\", i)"
   ]
  },
  {
   "cell_type": "code",
   "execution_count": null,
   "metadata": {},
   "outputs": [],
   "source": []
  }
 ],
 "metadata": {
  "kernelspec": {
   "display_name": "Python 3",
   "language": "python",
   "name": "python3"
  },
  "language_info": {
   "codemirror_mode": {
    "name": "ipython",
    "version": 3
   },
   "file_extension": ".py",
   "mimetype": "text/x-python",
   "name": "python",
   "nbconvert_exporter": "python",
   "pygments_lexer": "ipython3",
   "version": "3.7.6"
  }
 },
 "nbformat": 4,
 "nbformat_minor": 4
}
